{
  "nbformat": 4,
  "nbformat_minor": 0,
  "metadata": {
    "colab": {
      "provenance": [],
      "authorship_tag": "ABX9TyMEGdMPd+By2Y+R7Bw2HhvG",
      "include_colab_link": true
    },
    "kernelspec": {
      "name": "python3",
      "display_name": "Python 3"
    },
    "language_info": {
      "name": "python"
    }
  },
  "cells": [
    {
      "cell_type": "markdown",
      "metadata": {
        "id": "view-in-github",
        "colab_type": "text"
      },
      "source": [
        "<a href=\"https://colab.research.google.com/github/cbeckler/final_project/blob/kp_etl/Random_forest_model.ipynb\" target=\"_parent\"><img src=\"https://colab.research.google.com/assets/colab-badge.svg\" alt=\"Open In Colab\"/></a>"
      ]
    },
    {
      "cell_type": "code",
      "execution_count": 1,
      "metadata": {
        "colab": {
          "base_uri": "https://localhost:8080/"
        },
        "id": "9oNjjTWxWHrD",
        "outputId": "eac0349d-5cd3-4176-8ecb-d6a4ae58f9b7"
      },
      "outputs": [
        {
          "output_type": "stream",
          "name": "stdout",
          "text": [
            "Hit:1 http://archive.ubuntu.com/ubuntu bionic InRelease\n",
            "Get:2 http://archive.ubuntu.com/ubuntu bionic-updates InRelease [88.7 kB]\n",
            "Get:3 http://security.ubuntu.com/ubuntu bionic-security InRelease [88.7 kB]\n",
            "Get:4 https://cloud.r-project.org/bin/linux/ubuntu bionic-cran40/ InRelease [3,626 B]\n",
            "Ign:5 https://developer.download.nvidia.com/compute/machine-learning/repos/ubuntu1804/x86_64  InRelease\n",
            "Hit:6 https://developer.download.nvidia.com/compute/cuda/repos/ubuntu1804/x86_64  InRelease\n",
            "Hit:7 https://developer.download.nvidia.com/compute/machine-learning/repos/ubuntu1804/x86_64  Release\n",
            "Hit:8 http://ppa.launchpad.net/c2d4u.team/c2d4u4.0+/ubuntu bionic InRelease\n",
            "Get:9 http://archive.ubuntu.com/ubuntu bionic-backports InRelease [83.3 kB]\n",
            "Hit:10 http://ppa.launchpad.net/cran/libgit2/ubuntu bionic InRelease\n",
            "Hit:11 http://ppa.launchpad.net/deadsnakes/ppa/ubuntu bionic InRelease\n",
            "Hit:12 http://ppa.launchpad.net/graphics-drivers/ppa/ubuntu bionic InRelease\n",
            "Get:14 http://archive.ubuntu.com/ubuntu bionic-updates/universe amd64 Packages [2,348 kB]\n",
            "Get:15 http://security.ubuntu.com/ubuntu bionic-security/restricted amd64 Packages [1,369 kB]\n",
            "Get:16 http://security.ubuntu.com/ubuntu bionic-security/main amd64 Packages [3,141 kB]\n",
            "Get:17 http://archive.ubuntu.com/ubuntu bionic-updates/main amd64 Packages [3,568 kB]\n",
            "Get:18 http://security.ubuntu.com/ubuntu bionic-security/universe amd64 Packages [1,573 kB]\n",
            "Get:19 http://archive.ubuntu.com/ubuntu bionic-updates/restricted amd64 Packages [1,412 kB]\n",
            "Fetched 13.7 MB in 1min 16s (181 kB/s)\n",
            "Reading package lists... Done\n"
          ]
        }
      ],
      "source": [
        "import os\n",
        "# Find the latest version of spark 3.0 from http://www.apache.org/dist/spark/ and enter as the spark version\n",
        "# For example:\n",
        "# spark_version = 'spark-3.0.3'\n",
        "spark_version = 'spark-3.1.3'\n",
        "os.environ['SPARK_VERSION']=spark_version\n",
        "\n",
        "# Install Spark and Java\n",
        "!apt-get update\n",
        "!apt-get install openjdk-11-jdk-headless -qq > /dev/null\n",
        "!wget -q http://www.apache.org/dist/spark/$SPARK_VERSION/$SPARK_VERSION-bin-hadoop2.7.tgz\n",
        "!tar xf $SPARK_VERSION-bin-hadoop2.7.tgz\n",
        "!pip install -q findspark\n",
        "\n",
        "# Set Environment Variables\n",
        "import os\n",
        "os.environ[\"JAVA_HOME\"] = \"/usr/lib/jvm/java-11-openjdk-amd64\"\n",
        "os.environ[\"SPARK_HOME\"] = f\"/content/{spark_version}-bin-hadoop2.7\"\n",
        "\n",
        "# Start a SparkSession\n",
        "import findspark\n",
        "findspark.init()"
      ]
    },
    {
      "cell_type": "code",
      "source": [
        "# Download the Postgres driver that will allow Spark to interact with Postgres.\n",
        "!wget https://jdbc.postgresql.org/download/postgresql-42.2.16.jar"
      ],
      "metadata": {
        "colab": {
          "base_uri": "https://localhost:8080/"
        },
        "id": "9xWdJWTXWJla",
        "outputId": "e8857bd7-00fa-4736-95e0-0212e665539e"
      },
      "execution_count": 2,
      "outputs": [
        {
          "output_type": "stream",
          "name": "stdout",
          "text": [
            "--2023-01-13 04:14:59--  https://jdbc.postgresql.org/download/postgresql-42.2.16.jar\n",
            "Resolving jdbc.postgresql.org (jdbc.postgresql.org)... 72.32.157.228, 2001:4800:3e1:1::228\n",
            "Connecting to jdbc.postgresql.org (jdbc.postgresql.org)|72.32.157.228|:443... connected.\n",
            "HTTP request sent, awaiting response... 200 OK\n",
            "Length: 1002883 (979K) [application/java-archive]\n",
            "Saving to: ‘postgresql-42.2.16.jar’\n",
            "\n",
            "postgresql-42.2.16. 100%[===================>] 979.38K  6.16MB/s    in 0.2s    \n",
            "\n",
            "2023-01-13 04:15:00 (6.16 MB/s) - ‘postgresql-42.2.16.jar’ saved [1002883/1002883]\n",
            "\n"
          ]
        }
      ]
    },
    {
      "cell_type": "code",
      "source": [
        "# start spark session \n",
        "from pyspark.sql import SparkSession\n",
        "spark = SparkSession.builder.appName(\"random_forest\").config(\"spark.driver.extraClassPath\",\"/content/postgresql-42.2.16.jar\").getOrCreate()"
      ],
      "metadata": {
        "id": "0F5J01dhWQ40"
      },
      "execution_count": 3,
      "outputs": []
    },
    {
      "cell_type": "code",
      "source": [
        "from google.colab import drive\n",
        "drive.mount('/content/drive')"
      ],
      "metadata": {
        "colab": {
          "base_uri": "https://localhost:8080/"
        },
        "id": "P11OwaZZWRTC",
        "outputId": "a00de696-3fa7-43e8-cf79-a084a4cb5ca2"
      },
      "execution_count": 4,
      "outputs": [
        {
          "output_type": "stream",
          "name": "stdout",
          "text": [
            "Mounted at /content/drive\n"
          ]
        }
      ]
    },
    {
      "cell_type": "code",
      "source": [
        "#connect to database\n",
        "\n",
        "import pandas as pd\n",
        "\n",
        "conn_path = \"/content/drive/MyDrive/data/db_conn_info.csv\"\n",
        "\n",
        "conn_info = pd.read_csv(conn_path)\n",
        "\n",
        "db_name = conn_info['db_name'][0]\n",
        "\n",
        "db_pw = conn_info['password'][0]\n",
        "\n",
        "db_host = conn_info['host'][0]\n",
        "\n",
        "db_port = conn_info['port'][0]\n",
        "\n",
        "db_user = conn_info['user'][0]"
      ],
      "metadata": {
        "id": "vvNhumSoWUZ4"
      },
      "execution_count": 5,
      "outputs": []
    },
    {
      "cell_type": "code",
      "source": [
        "from sqlalchemy import create_engine\n",
        "\n",
        "engine = create_engine(f'postgresql://{db_name}:{db_pw}@{db_host}:{db_port}/{db_user}')"
      ],
      "metadata": {
        "id": "saPIO7JzWaqA"
      },
      "execution_count": 6,
      "outputs": []
    },
    {
      "cell_type": "code",
      "source": [
        "# import model dataset\n",
        "\n",
        "df = pd.read_sql(\"select * from model_dataset\", engine)\n",
        "\n",
        "df.head()"
      ],
      "metadata": {
        "colab": {
          "base_uri": "https://localhost:8080/",
          "height": 300
        },
        "id": "zllOAN22WdMw",
        "outputId": "3aef19b5-68ce-44d5-ae28-fae4abe7fd7f"
      },
      "execution_count": 7,
      "outputs": [
        {
          "output_type": "execute_result",
          "data": {
            "text/plain": [
              "   index  FIPS recent_trend  PM25_max_pred  PM25_med_pred  PM25_mean_pred  \\\n",
              "0      0  1101      falling      12.555164      12.013325       11.958884   \n",
              "1      1  1103       stable      13.287901      12.684610       12.647047   \n",
              "2      2  1105       stable      11.426605      11.072150       11.079387   \n",
              "3      3  1107       stable      11.594499      11.146401       11.155309   \n",
              "4      4  1109       stable      11.352271      10.939546       10.932512   \n",
              "\n",
              "   O3_max_pred  O3_med_pred  O3_mean_pred  PM25_max_pred_2001  ...  \\\n",
              "0    41.874165    39.939759     39.977164           13.365598  ...   \n",
              "1    43.308170    41.901690     41.888594           15.564124  ...   \n",
              "2    39.805057    38.986625     39.022229           12.768430  ...   \n",
              "3    39.979953    39.173487     39.137133           13.199240  ...   \n",
              "4    40.690546    39.856677     39.866958           12.164619  ...   \n",
              "\n",
              "   O3_med_pred_2005  O3_med_pred_2006  O3_med_pred_2007  O3_med_pred_2008  \\\n",
              "0         40.567937         43.333084         43.589498         40.750847   \n",
              "1         43.226680         44.786660         46.470120         42.158683   \n",
              "2         40.612558         43.447473         43.062623         38.970321   \n",
              "3         41.574587         43.677365         42.648266         38.709791   \n",
              "4         40.589950         43.572161         43.102934         40.463900   \n",
              "\n",
              "   O3_med_pred_2009  O3_med_pred_2010  O3_med_pred_2011  O3_med_pred_2012  \\\n",
              "0         36.326936         41.478252         41.055674         39.470118   \n",
              "1         38.435499         42.927004         42.164915         41.937580   \n",
              "2         34.915892         39.396689         38.999311         37.908802   \n",
              "3         35.148054         39.154417         38.971029         38.468993   \n",
              "4         36.734288         41.022877         40.996091         38.420984   \n",
              "\n",
              "   O3_med_pred_2013  O3_med_pred_2014  \n",
              "0         36.512861         37.457633  \n",
              "1         38.473920         38.021493  \n",
              "2         35.517161         35.654156  \n",
              "3         36.022568         35.750203  \n",
              "4         36.382191         37.127240  \n",
              "\n",
              "[5 rows x 93 columns]"
            ],
            "text/html": [
              "\n",
              "  <div id=\"df-a3e50141-406a-4c7b-bbc6-485e61812d09\">\n",
              "    <div class=\"colab-df-container\">\n",
              "      <div>\n",
              "<style scoped>\n",
              "    .dataframe tbody tr th:only-of-type {\n",
              "        vertical-align: middle;\n",
              "    }\n",
              "\n",
              "    .dataframe tbody tr th {\n",
              "        vertical-align: top;\n",
              "    }\n",
              "\n",
              "    .dataframe thead th {\n",
              "        text-align: right;\n",
              "    }\n",
              "</style>\n",
              "<table border=\"1\" class=\"dataframe\">\n",
              "  <thead>\n",
              "    <tr style=\"text-align: right;\">\n",
              "      <th></th>\n",
              "      <th>index</th>\n",
              "      <th>FIPS</th>\n",
              "      <th>recent_trend</th>\n",
              "      <th>PM25_max_pred</th>\n",
              "      <th>PM25_med_pred</th>\n",
              "      <th>PM25_mean_pred</th>\n",
              "      <th>O3_max_pred</th>\n",
              "      <th>O3_med_pred</th>\n",
              "      <th>O3_mean_pred</th>\n",
              "      <th>PM25_max_pred_2001</th>\n",
              "      <th>...</th>\n",
              "      <th>O3_med_pred_2005</th>\n",
              "      <th>O3_med_pred_2006</th>\n",
              "      <th>O3_med_pred_2007</th>\n",
              "      <th>O3_med_pred_2008</th>\n",
              "      <th>O3_med_pred_2009</th>\n",
              "      <th>O3_med_pred_2010</th>\n",
              "      <th>O3_med_pred_2011</th>\n",
              "      <th>O3_med_pred_2012</th>\n",
              "      <th>O3_med_pred_2013</th>\n",
              "      <th>O3_med_pred_2014</th>\n",
              "    </tr>\n",
              "  </thead>\n",
              "  <tbody>\n",
              "    <tr>\n",
              "      <th>0</th>\n",
              "      <td>0</td>\n",
              "      <td>1101</td>\n",
              "      <td>falling</td>\n",
              "      <td>12.555164</td>\n",
              "      <td>12.013325</td>\n",
              "      <td>11.958884</td>\n",
              "      <td>41.874165</td>\n",
              "      <td>39.939759</td>\n",
              "      <td>39.977164</td>\n",
              "      <td>13.365598</td>\n",
              "      <td>...</td>\n",
              "      <td>40.567937</td>\n",
              "      <td>43.333084</td>\n",
              "      <td>43.589498</td>\n",
              "      <td>40.750847</td>\n",
              "      <td>36.326936</td>\n",
              "      <td>41.478252</td>\n",
              "      <td>41.055674</td>\n",
              "      <td>39.470118</td>\n",
              "      <td>36.512861</td>\n",
              "      <td>37.457633</td>\n",
              "    </tr>\n",
              "    <tr>\n",
              "      <th>1</th>\n",
              "      <td>1</td>\n",
              "      <td>1103</td>\n",
              "      <td>stable</td>\n",
              "      <td>13.287901</td>\n",
              "      <td>12.684610</td>\n",
              "      <td>12.647047</td>\n",
              "      <td>43.308170</td>\n",
              "      <td>41.901690</td>\n",
              "      <td>41.888594</td>\n",
              "      <td>15.564124</td>\n",
              "      <td>...</td>\n",
              "      <td>43.226680</td>\n",
              "      <td>44.786660</td>\n",
              "      <td>46.470120</td>\n",
              "      <td>42.158683</td>\n",
              "      <td>38.435499</td>\n",
              "      <td>42.927004</td>\n",
              "      <td>42.164915</td>\n",
              "      <td>41.937580</td>\n",
              "      <td>38.473920</td>\n",
              "      <td>38.021493</td>\n",
              "    </tr>\n",
              "    <tr>\n",
              "      <th>2</th>\n",
              "      <td>2</td>\n",
              "      <td>1105</td>\n",
              "      <td>stable</td>\n",
              "      <td>11.426605</td>\n",
              "      <td>11.072150</td>\n",
              "      <td>11.079387</td>\n",
              "      <td>39.805057</td>\n",
              "      <td>38.986625</td>\n",
              "      <td>39.022229</td>\n",
              "      <td>12.768430</td>\n",
              "      <td>...</td>\n",
              "      <td>40.612558</td>\n",
              "      <td>43.447473</td>\n",
              "      <td>43.062623</td>\n",
              "      <td>38.970321</td>\n",
              "      <td>34.915892</td>\n",
              "      <td>39.396689</td>\n",
              "      <td>38.999311</td>\n",
              "      <td>37.908802</td>\n",
              "      <td>35.517161</td>\n",
              "      <td>35.654156</td>\n",
              "    </tr>\n",
              "    <tr>\n",
              "      <th>3</th>\n",
              "      <td>3</td>\n",
              "      <td>1107</td>\n",
              "      <td>stable</td>\n",
              "      <td>11.594499</td>\n",
              "      <td>11.146401</td>\n",
              "      <td>11.155309</td>\n",
              "      <td>39.979953</td>\n",
              "      <td>39.173487</td>\n",
              "      <td>39.137133</td>\n",
              "      <td>13.199240</td>\n",
              "      <td>...</td>\n",
              "      <td>41.574587</td>\n",
              "      <td>43.677365</td>\n",
              "      <td>42.648266</td>\n",
              "      <td>38.709791</td>\n",
              "      <td>35.148054</td>\n",
              "      <td>39.154417</td>\n",
              "      <td>38.971029</td>\n",
              "      <td>38.468993</td>\n",
              "      <td>36.022568</td>\n",
              "      <td>35.750203</td>\n",
              "    </tr>\n",
              "    <tr>\n",
              "      <th>4</th>\n",
              "      <td>4</td>\n",
              "      <td>1109</td>\n",
              "      <td>stable</td>\n",
              "      <td>11.352271</td>\n",
              "      <td>10.939546</td>\n",
              "      <td>10.932512</td>\n",
              "      <td>40.690546</td>\n",
              "      <td>39.856677</td>\n",
              "      <td>39.866958</td>\n",
              "      <td>12.164619</td>\n",
              "      <td>...</td>\n",
              "      <td>40.589950</td>\n",
              "      <td>43.572161</td>\n",
              "      <td>43.102934</td>\n",
              "      <td>40.463900</td>\n",
              "      <td>36.734288</td>\n",
              "      <td>41.022877</td>\n",
              "      <td>40.996091</td>\n",
              "      <td>38.420984</td>\n",
              "      <td>36.382191</td>\n",
              "      <td>37.127240</td>\n",
              "    </tr>\n",
              "  </tbody>\n",
              "</table>\n",
              "<p>5 rows × 93 columns</p>\n",
              "</div>\n",
              "      <button class=\"colab-df-convert\" onclick=\"convertToInteractive('df-a3e50141-406a-4c7b-bbc6-485e61812d09')\"\n",
              "              title=\"Convert this dataframe to an interactive table.\"\n",
              "              style=\"display:none;\">\n",
              "        \n",
              "  <svg xmlns=\"http://www.w3.org/2000/svg\" height=\"24px\"viewBox=\"0 0 24 24\"\n",
              "       width=\"24px\">\n",
              "    <path d=\"M0 0h24v24H0V0z\" fill=\"none\"/>\n",
              "    <path d=\"M18.56 5.44l.94 2.06.94-2.06 2.06-.94-2.06-.94-.94-2.06-.94 2.06-2.06.94zm-11 1L8.5 8.5l.94-2.06 2.06-.94-2.06-.94L8.5 2.5l-.94 2.06-2.06.94zm10 10l.94 2.06.94-2.06 2.06-.94-2.06-.94-.94-2.06-.94 2.06-2.06.94z\"/><path d=\"M17.41 7.96l-1.37-1.37c-.4-.4-.92-.59-1.43-.59-.52 0-1.04.2-1.43.59L10.3 9.45l-7.72 7.72c-.78.78-.78 2.05 0 2.83L4 21.41c.39.39.9.59 1.41.59.51 0 1.02-.2 1.41-.59l7.78-7.78 2.81-2.81c.8-.78.8-2.07 0-2.86zM5.41 20L4 18.59l7.72-7.72 1.47 1.35L5.41 20z\"/>\n",
              "  </svg>\n",
              "      </button>\n",
              "      \n",
              "  <style>\n",
              "    .colab-df-container {\n",
              "      display:flex;\n",
              "      flex-wrap:wrap;\n",
              "      gap: 12px;\n",
              "    }\n",
              "\n",
              "    .colab-df-convert {\n",
              "      background-color: #E8F0FE;\n",
              "      border: none;\n",
              "      border-radius: 50%;\n",
              "      cursor: pointer;\n",
              "      display: none;\n",
              "      fill: #1967D2;\n",
              "      height: 32px;\n",
              "      padding: 0 0 0 0;\n",
              "      width: 32px;\n",
              "    }\n",
              "\n",
              "    .colab-df-convert:hover {\n",
              "      background-color: #E2EBFA;\n",
              "      box-shadow: 0px 1px 2px rgba(60, 64, 67, 0.3), 0px 1px 3px 1px rgba(60, 64, 67, 0.15);\n",
              "      fill: #174EA6;\n",
              "    }\n",
              "\n",
              "    [theme=dark] .colab-df-convert {\n",
              "      background-color: #3B4455;\n",
              "      fill: #D2E3FC;\n",
              "    }\n",
              "\n",
              "    [theme=dark] .colab-df-convert:hover {\n",
              "      background-color: #434B5C;\n",
              "      box-shadow: 0px 1px 3px 1px rgba(0, 0, 0, 0.15);\n",
              "      filter: drop-shadow(0px 1px 2px rgba(0, 0, 0, 0.3));\n",
              "      fill: #FFFFFF;\n",
              "    }\n",
              "  </style>\n",
              "\n",
              "      <script>\n",
              "        const buttonEl =\n",
              "          document.querySelector('#df-a3e50141-406a-4c7b-bbc6-485e61812d09 button.colab-df-convert');\n",
              "        buttonEl.style.display =\n",
              "          google.colab.kernel.accessAllowed ? 'block' : 'none';\n",
              "\n",
              "        async function convertToInteractive(key) {\n",
              "          const element = document.querySelector('#df-a3e50141-406a-4c7b-bbc6-485e61812d09');\n",
              "          const dataTable =\n",
              "            await google.colab.kernel.invokeFunction('convertToInteractive',\n",
              "                                                     [key], {});\n",
              "          if (!dataTable) return;\n",
              "\n",
              "          const docLinkHtml = 'Like what you see? Visit the ' +\n",
              "            '<a target=\"_blank\" href=https://colab.research.google.com/notebooks/data_table.ipynb>data table notebook</a>'\n",
              "            + ' to learn more about interactive tables.';\n",
              "          element.innerHTML = '';\n",
              "          dataTable['output_type'] = 'display_data';\n",
              "          await google.colab.output.renderOutput(dataTable, element);\n",
              "          const docLink = document.createElement('div');\n",
              "          docLink.innerHTML = docLinkHtml;\n",
              "          element.appendChild(docLink);\n",
              "        }\n",
              "      </script>\n",
              "    </div>\n",
              "  </div>\n",
              "  "
            ]
          },
          "metadata": {},
          "execution_count": 7
        }
      ]
    },
    {
      "cell_type": "code",
      "source": [
        "import numpy as np\n",
        "from collections import Counter\n",
        "from sklearn.metrics import balanced_accuracy_score\n",
        "from sklearn.metrics import confusion_matrix\n",
        "from imblearn.metrics import classification_report_imbalanced\n",
        "from sklearn.model_selection import train_test_split\n",
        "from sklearn.preprocessing import StandardScaler\n",
        "from imblearn.over_sampling import SMOTE"
      ],
      "metadata": {
        "id": "dQr4DHH4W7LU"
      },
      "execution_count": 8,
      "outputs": []
    },
    {
      "cell_type": "code",
      "source": [
        "X = df.drop(['index', 'FIPS', 'recent_trend'], axis=1)\n",
        "y = df['recent_trend']"
      ],
      "metadata": {
        "id": "wwc299AYW_zU"
      },
      "execution_count": 9,
      "outputs": []
    },
    {
      "cell_type": "code",
      "source": [
        "y.value_counts()"
      ],
      "metadata": {
        "colab": {
          "base_uri": "https://localhost:8080/"
        },
        "id": "-jQYBiWvXP5q",
        "outputId": "afff244e-1b56-4adc-bb8a-a15bf2f24cf5"
      },
      "execution_count": 10,
      "outputs": [
        {
          "output_type": "execute_result",
          "data": {
            "text/plain": [
              "stable     1922\n",
              "falling     136\n",
              "rising       38\n",
              "Name: recent_trend, dtype: int64"
            ]
          },
          "metadata": {},
          "execution_count": 10
        }
      ]
    },
    {
      "cell_type": "code",
      "source": [
        "#Split data into training and testing\n",
        "X_train, X_test, y_train, y_test = train_test_split(X,\n",
        "                                                    y,\n",
        "                                                    random_state=1,\n",
        "                                                    stratify=y)\n",
        "scaler =StandardScaler().fit(X_train)\n",
        "\n",
        "X_train_scaled =scaler.transform(X_train)\n",
        "X_test_scaled =scaler.transform(X_test)"
      ],
      "metadata": {
        "id": "QHY8jUGEXR9P"
      },
      "execution_count": 11,
      "outputs": []
    },
    {
      "cell_type": "code",
      "source": [
        "# Resampling training data with SMOTE\n",
        "X_resampled, y_resampled = SMOTE(\n",
        "    random_state=1,sampling_strategy='auto').fit_resample(\n",
        "    X_train_scaled, y_train)\n",
        "\n",
        "print(f'y_resampled: {Counter(y_resampled)}')"
      ],
      "metadata": {
        "colab": {
          "base_uri": "https://localhost:8080/"
        },
        "id": "sjksJwVyXXkg",
        "outputId": "cf637805-8f4a-42f6-e390-ff7a2dec47cc"
      },
      "execution_count": 12,
      "outputs": [
        {
          "output_type": "stream",
          "name": "stdout",
          "text": [
            "y_resampled: Counter({'stable': 1441, 'falling': 1441, 'rising': 1441})\n"
          ]
        }
      ]
    },
    {
      "cell_type": "code",
      "source": [
        "from imblearn.ensemble import BalancedRandomForestClassifier\n",
        "brc=BalancedRandomForestClassifier(random_state=1, n_estimators=100).fit(X_resampled, y_resampled)"
      ],
      "metadata": {
        "id": "2Ji7XTRcXZWt"
      },
      "execution_count": 13,
      "outputs": []
    },
    {
      "cell_type": "code",
      "source": [
        "y_pred= brc.predict(X_test_scaled)"
      ],
      "metadata": {
        "id": "8dYxPUD4XbqD"
      },
      "execution_count": 14,
      "outputs": []
    },
    {
      "cell_type": "code",
      "source": [
        "y_pred_train= brc.predict(X_train_scaled)"
      ],
      "metadata": {
        "id": "Rzm2eEShZRBS"
      },
      "execution_count": 20,
      "outputs": []
    },
    {
      "cell_type": "code",
      "source": [
        "balanced_accuracy_score(y_train, y_pred_train)"
      ],
      "metadata": {
        "colab": {
          "base_uri": "https://localhost:8080/"
        },
        "id": "tKhzK-mkZZwS",
        "outputId": "186d3aa2-8198-4540-ca5d-0c4f5a5367c8"
      },
      "execution_count": 21,
      "outputs": [
        {
          "output_type": "execute_result",
          "data": {
            "text/plain": [
              "1.0"
            ]
          },
          "metadata": {},
          "execution_count": 21
        }
      ]
    },
    {
      "cell_type": "code",
      "source": [
        "# Calculated the balanced accuracy score\n",
        "balanced_accuracy_score(y_test, y_pred)\n"
      ],
      "metadata": {
        "colab": {
          "base_uri": "https://localhost:8080/"
        },
        "id": "wk_hKBVnXf1h",
        "outputId": "527bd9e7-d5e0-4834-ad83-aa12997c8adf"
      },
      "execution_count": 15,
      "outputs": [
        {
          "output_type": "execute_result",
          "data": {
            "text/plain": [
              "0.9187966246789777"
            ]
          },
          "metadata": {},
          "execution_count": 15
        }
      ]
    },
    {
      "cell_type": "code",
      "source": [
        "cm=confusion_matrix(y_test, y_pred)\n",
        "cm"
      ],
      "metadata": {
        "colab": {
          "base_uri": "https://localhost:8080/"
        },
        "id": "HX_RvEukXhrm",
        "outputId": "fd823b4f-630c-4326-9bf6-6e6dcfd28ce7"
      },
      "execution_count": 22,
      "outputs": [
        {
          "output_type": "execute_result",
          "data": {
            "text/plain": [
              "array([[ 26,   0,   8],\n",
              "       [  0,   9,   0],\n",
              "       [  4,   0, 477]])"
            ]
          },
          "metadata": {},
          "execution_count": 22
        }
      ]
    },
    {
      "cell_type": "code",
      "source": [
        "brc_df=pd.DataFrame({\"Prediction\": y_pred, \"Actual\": y_test}).reset_index(drop=True)\n",
        "brc_df"
      ],
      "metadata": {
        "colab": {
          "base_uri": "https://localhost:8080/",
          "height": 424
        },
        "id": "FdJ6p8i-XkOx",
        "outputId": "8b375e57-15ed-4d87-9e64-3918950c320d"
      },
      "execution_count": 23,
      "outputs": [
        {
          "output_type": "execute_result",
          "data": {
            "text/plain": [
              "    Prediction   Actual\n",
              "0       stable   stable\n",
              "1       stable   stable\n",
              "2       stable   stable\n",
              "3       stable   stable\n",
              "4      falling  falling\n",
              "..         ...      ...\n",
              "519     stable   stable\n",
              "520     stable   stable\n",
              "521     stable   stable\n",
              "522    falling  falling\n",
              "523     stable   stable\n",
              "\n",
              "[524 rows x 2 columns]"
            ],
            "text/html": [
              "\n",
              "  <div id=\"df-6222000c-b52a-42b7-b72a-9bb67c4a6c08\">\n",
              "    <div class=\"colab-df-container\">\n",
              "      <div>\n",
              "<style scoped>\n",
              "    .dataframe tbody tr th:only-of-type {\n",
              "        vertical-align: middle;\n",
              "    }\n",
              "\n",
              "    .dataframe tbody tr th {\n",
              "        vertical-align: top;\n",
              "    }\n",
              "\n",
              "    .dataframe thead th {\n",
              "        text-align: right;\n",
              "    }\n",
              "</style>\n",
              "<table border=\"1\" class=\"dataframe\">\n",
              "  <thead>\n",
              "    <tr style=\"text-align: right;\">\n",
              "      <th></th>\n",
              "      <th>Prediction</th>\n",
              "      <th>Actual</th>\n",
              "    </tr>\n",
              "  </thead>\n",
              "  <tbody>\n",
              "    <tr>\n",
              "      <th>0</th>\n",
              "      <td>stable</td>\n",
              "      <td>stable</td>\n",
              "    </tr>\n",
              "    <tr>\n",
              "      <th>1</th>\n",
              "      <td>stable</td>\n",
              "      <td>stable</td>\n",
              "    </tr>\n",
              "    <tr>\n",
              "      <th>2</th>\n",
              "      <td>stable</td>\n",
              "      <td>stable</td>\n",
              "    </tr>\n",
              "    <tr>\n",
              "      <th>3</th>\n",
              "      <td>stable</td>\n",
              "      <td>stable</td>\n",
              "    </tr>\n",
              "    <tr>\n",
              "      <th>4</th>\n",
              "      <td>falling</td>\n",
              "      <td>falling</td>\n",
              "    </tr>\n",
              "    <tr>\n",
              "      <th>...</th>\n",
              "      <td>...</td>\n",
              "      <td>...</td>\n",
              "    </tr>\n",
              "    <tr>\n",
              "      <th>519</th>\n",
              "      <td>stable</td>\n",
              "      <td>stable</td>\n",
              "    </tr>\n",
              "    <tr>\n",
              "      <th>520</th>\n",
              "      <td>stable</td>\n",
              "      <td>stable</td>\n",
              "    </tr>\n",
              "    <tr>\n",
              "      <th>521</th>\n",
              "      <td>stable</td>\n",
              "      <td>stable</td>\n",
              "    </tr>\n",
              "    <tr>\n",
              "      <th>522</th>\n",
              "      <td>falling</td>\n",
              "      <td>falling</td>\n",
              "    </tr>\n",
              "    <tr>\n",
              "      <th>523</th>\n",
              "      <td>stable</td>\n",
              "      <td>stable</td>\n",
              "    </tr>\n",
              "  </tbody>\n",
              "</table>\n",
              "<p>524 rows × 2 columns</p>\n",
              "</div>\n",
              "      <button class=\"colab-df-convert\" onclick=\"convertToInteractive('df-6222000c-b52a-42b7-b72a-9bb67c4a6c08')\"\n",
              "              title=\"Convert this dataframe to an interactive table.\"\n",
              "              style=\"display:none;\">\n",
              "        \n",
              "  <svg xmlns=\"http://www.w3.org/2000/svg\" height=\"24px\"viewBox=\"0 0 24 24\"\n",
              "       width=\"24px\">\n",
              "    <path d=\"M0 0h24v24H0V0z\" fill=\"none\"/>\n",
              "    <path d=\"M18.56 5.44l.94 2.06.94-2.06 2.06-.94-2.06-.94-.94-2.06-.94 2.06-2.06.94zm-11 1L8.5 8.5l.94-2.06 2.06-.94-2.06-.94L8.5 2.5l-.94 2.06-2.06.94zm10 10l.94 2.06.94-2.06 2.06-.94-2.06-.94-.94-2.06-.94 2.06-2.06.94z\"/><path d=\"M17.41 7.96l-1.37-1.37c-.4-.4-.92-.59-1.43-.59-.52 0-1.04.2-1.43.59L10.3 9.45l-7.72 7.72c-.78.78-.78 2.05 0 2.83L4 21.41c.39.39.9.59 1.41.59.51 0 1.02-.2 1.41-.59l7.78-7.78 2.81-2.81c.8-.78.8-2.07 0-2.86zM5.41 20L4 18.59l7.72-7.72 1.47 1.35L5.41 20z\"/>\n",
              "  </svg>\n",
              "      </button>\n",
              "      \n",
              "  <style>\n",
              "    .colab-df-container {\n",
              "      display:flex;\n",
              "      flex-wrap:wrap;\n",
              "      gap: 12px;\n",
              "    }\n",
              "\n",
              "    .colab-df-convert {\n",
              "      background-color: #E8F0FE;\n",
              "      border: none;\n",
              "      border-radius: 50%;\n",
              "      cursor: pointer;\n",
              "      display: none;\n",
              "      fill: #1967D2;\n",
              "      height: 32px;\n",
              "      padding: 0 0 0 0;\n",
              "      width: 32px;\n",
              "    }\n",
              "\n",
              "    .colab-df-convert:hover {\n",
              "      background-color: #E2EBFA;\n",
              "      box-shadow: 0px 1px 2px rgba(60, 64, 67, 0.3), 0px 1px 3px 1px rgba(60, 64, 67, 0.15);\n",
              "      fill: #174EA6;\n",
              "    }\n",
              "\n",
              "    [theme=dark] .colab-df-convert {\n",
              "      background-color: #3B4455;\n",
              "      fill: #D2E3FC;\n",
              "    }\n",
              "\n",
              "    [theme=dark] .colab-df-convert:hover {\n",
              "      background-color: #434B5C;\n",
              "      box-shadow: 0px 1px 3px 1px rgba(0, 0, 0, 0.15);\n",
              "      filter: drop-shadow(0px 1px 2px rgba(0, 0, 0, 0.3));\n",
              "      fill: #FFFFFF;\n",
              "    }\n",
              "  </style>\n",
              "\n",
              "      <script>\n",
              "        const buttonEl =\n",
              "          document.querySelector('#df-6222000c-b52a-42b7-b72a-9bb67c4a6c08 button.colab-df-convert');\n",
              "        buttonEl.style.display =\n",
              "          google.colab.kernel.accessAllowed ? 'block' : 'none';\n",
              "\n",
              "        async function convertToInteractive(key) {\n",
              "          const element = document.querySelector('#df-6222000c-b52a-42b7-b72a-9bb67c4a6c08');\n",
              "          const dataTable =\n",
              "            await google.colab.kernel.invokeFunction('convertToInteractive',\n",
              "                                                     [key], {});\n",
              "          if (!dataTable) return;\n",
              "\n",
              "          const docLinkHtml = 'Like what you see? Visit the ' +\n",
              "            '<a target=\"_blank\" href=https://colab.research.google.com/notebooks/data_table.ipynb>data table notebook</a>'\n",
              "            + ' to learn more about interactive tables.';\n",
              "          element.innerHTML = '';\n",
              "          dataTable['output_type'] = 'display_data';\n",
              "          await google.colab.output.renderOutput(dataTable, element);\n",
              "          const docLink = document.createElement('div');\n",
              "          docLink.innerHTML = docLinkHtml;\n",
              "          element.appendChild(docLink);\n",
              "        }\n",
              "      </script>\n",
              "    </div>\n",
              "  </div>\n",
              "  "
            ]
          },
          "metadata": {},
          "execution_count": 23
        }
      ]
    },
    {
      "cell_type": "code",
      "source": [
        "print(brc_df.Prediction.value_counts())\n",
        "print(brc_df.Actual.value_counts())"
      ],
      "metadata": {
        "colab": {
          "base_uri": "https://localhost:8080/"
        },
        "id": "DVDdZ3QsXm8f",
        "outputId": "66ac3120-1d48-4f78-9da4-51a42bf3f63b"
      },
      "execution_count": 18,
      "outputs": [
        {
          "output_type": "stream",
          "name": "stdout",
          "text": [
            "stable     485\n",
            "falling     30\n",
            "rising       9\n",
            "Name: Prediction, dtype: int64\n",
            "stable     481\n",
            "falling     34\n",
            "rising       9\n",
            "Name: Actual, dtype: int64\n"
          ]
        }
      ]
    },
    {
      "cell_type": "code",
      "source": [
        "print(classification_report_imbalanced(y_test, y_pred))"
      ],
      "metadata": {
        "colab": {
          "base_uri": "https://localhost:8080/"
        },
        "id": "_LGhiDLGXozz",
        "outputId": "61decddb-e75c-4b04-b999-13d3eea54efe"
      },
      "execution_count": 19,
      "outputs": [
        {
          "output_type": "stream",
          "name": "stdout",
          "text": [
            "                   pre       rec       spe        f1       geo       iba       sup\n",
            "\n",
            "    falling       0.87      0.76      0.99      0.81      0.87      0.74        34\n",
            "     rising       1.00      1.00      1.00      1.00      1.00      1.00         9\n",
            "     stable       0.98      0.99      0.81      0.99      0.90      0.82       481\n",
            "\n",
            "avg / total       0.98      0.98      0.83      0.98      0.90      0.82       524\n",
            "\n"
          ]
        }
      ]
    },
    {
      "cell_type": "code",
      "source": [],
      "metadata": {
        "id": "JcmQyxNhXsRv"
      },
      "execution_count": null,
      "outputs": []
    }
  ]
}