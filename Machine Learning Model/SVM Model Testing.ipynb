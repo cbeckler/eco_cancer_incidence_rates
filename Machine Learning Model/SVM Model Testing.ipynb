{
 "cells": [
  {
   "cell_type": "code",
   "execution_count": 6,
   "id": "a1c79a20",
   "metadata": {},
   "outputs": [],
   "source": [
    "import os\n",
    "spark_version = 'spark-3.3.1'\n",
    "os.environ['SPARK_VERSION']=spark_version\n",
    "\n",
    "from pyspark.sql import SparkSession\n",
    "\n",
    "# Start a SparkSession\n",
    "import findspark\n",
    "findspark.init()"
   ]
  },
  {
   "cell_type": "code",
   "execution_count": 8,
   "id": "623ab026",
   "metadata": {},
   "outputs": [
    {
     "ename": "SyntaxError",
     "evalue": "invalid syntax (2042889903.py, line 2)",
     "output_type": "error",
     "traceback": [
      "\u001b[1;36m  File \u001b[1;32m\"C:\\Users\\cassi\\AppData\\Local\\Temp\\ipykernel_8608\\2042889903.py\"\u001b[1;36m, line \u001b[1;32m2\u001b[0m\n\u001b[1;33m    https://jdbc.postgresql.org/download/postgresql-42.2.16.jar\u001b[0m\n\u001b[1;37m           ^\u001b[0m\n\u001b[1;31mSyntaxError\u001b[0m\u001b[1;31m:\u001b[0m invalid syntax\n"
     ]
    }
   ],
   "source": [
    "# Download the Postgres driver that will allow Spark to interact with Postgres.\n",
    "https://jdbc.postgresql.org/download/postgresql-42.2.16.jar"
   ]
  },
  {
   "cell_type": "code",
   "execution_count": 1,
   "id": "7581dc2d",
   "metadata": {},
   "outputs": [],
   "source": [
    "import pandas as pd\n",
    "from sklearn.model_selection import train_test_split\n",
    "from sklearn.svm import SVC\n",
    "from sklearn.metrics import confusion_matrix\n",
    "from sklearn.preprocessing import LabelEncoder"
   ]
  },
  {
   "cell_type": "code",
   "execution_count": 3,
   "id": "056f03d6",
   "metadata": {
    "scrolled": true
   },
   "outputs": [
    {
     "name": "stdout",
     "output_type": "stream",
     "text": [
      "    fips_no recent_trends  max_pred_pm  min_pred_pm  mean_pred_pm  \\\n",
      "0       288        rising         71.0         53.0          83.0   \n",
      "1       312       falling         23.0         80.0          99.0   \n",
      "2       485        stable         70.0          8.0          39.0   \n",
      "3       429        rising         61.0         98.0          33.0   \n",
      "4       456       stable          77.0         54.0          36.0   \n",
      "5       138        stable         24.0         65.0          85.0   \n",
      "6       308        stable         80.0         56.0          77.0   \n",
      "7       280       falling         62.0         79.0          18.0   \n",
      "8       404        rising          3.0         54.0          26.0   \n",
      "9       193       falling         46.0         27.0          92.0   \n",
      "10      299        stable         28.0         61.0          23.0   \n",
      "11      450        stable         49.0         54.0          43.0   \n",
      "12      378        stable         97.0         39.0          50.0   \n",
      "13      456        stable         60.0         32.0          84.0   \n",
      "14      373        rising         53.0         19.0          55.0   \n",
      "15      296       falling         54.0         43.0          68.0   \n",
      "16      209        stable         94.0         24.0          44.0   \n",
      "\n",
      "    max_pred_pm_01  min_pred_pm_01  mean_pred_pm_01  max_pred_pm_02  \\\n",
      "0             70.0            74.0             67.0            53.0   \n",
      "1             87.0            77.0             13.0            60.0   \n",
      "2             87.0            19.0             78.0            54.0   \n",
      "3             43.0            69.0             16.0            87.0   \n",
      "4             53.0            61.0             63.0            44.0   \n",
      "5             33.0            48.0            100.0            38.0   \n",
      "6              7.0            37.0             13.0            93.0   \n",
      "7             32.0            31.0             38.0             4.0   \n",
      "8             34.0            90.0             92.0            85.0   \n",
      "9             28.0            58.0             90.0            22.0   \n",
      "10            37.0            78.0             82.0            60.0   \n",
      "11             2.0            22.0             27.0            99.0   \n",
      "12            30.0            92.0             56.0            66.0   \n",
      "13            75.0            43.0             68.0            34.0   \n",
      "14            88.0             3.0             28.0            17.0   \n",
      "15            98.0            33.0             67.0             5.0   \n",
      "16            75.0             6.0             58.0            14.0   \n",
      "\n",
      "    min_pred_pm_02  ...  max_pred_oz_12  min_pred_oz_12  mean_pred_oz_12  \\\n",
      "0             48.0  ...            78.0            48.0             43.0   \n",
      "1             82.0  ...            98.0            65.0             30.0   \n",
      "2             12.0  ...            69.0            82.0             22.0   \n",
      "3             62.0  ...            97.0            12.0             24.0   \n",
      "4             46.0  ...             7.0            54.0             84.0   \n",
      "5             51.0  ...             4.0            71.0             59.0   \n",
      "6             69.0  ...            85.0             2.0             58.0   \n",
      "7             37.0  ...             7.0            72.0             77.0   \n",
      "8              6.0  ...            91.0            58.0             42.0   \n",
      "9             70.0  ...            86.0            17.0             85.0   \n",
      "10            25.0  ...            75.0            29.0             15.0   \n",
      "11            37.0  ...            60.0            43.0             37.0   \n",
      "12            58.0  ...            52.0            77.0             88.0   \n",
      "13             7.0  ...            10.0            32.0             78.0   \n",
      "14             8.0  ...           100.0            53.0             78.0   \n",
      "15            93.0  ...            85.0             7.0              3.0   \n",
      "16            76.0  ...            67.0            89.0             99.0   \n",
      "\n",
      "    max_pred_oz_13  min_pred_oz_13  mean_pred_oz_13  max_pred_oz_14  \\\n",
      "0             49.0            72.0             47.0            70.0   \n",
      "1             22.0            41.0              9.0            99.0   \n",
      "2             58.0            83.0             12.0            50.0   \n",
      "3             59.0             2.0             74.0            79.0   \n",
      "4             20.0            45.0             40.0            55.0   \n",
      "5             88.0            74.0              2.0            93.0   \n",
      "6             22.0            99.0             49.0            68.0   \n",
      "7             48.0            85.0             46.0            65.0   \n",
      "8             87.0            35.0              9.0            53.0   \n",
      "9             37.0            69.0             36.0            72.0   \n",
      "10            13.0            55.0             38.0            42.0   \n",
      "11            81.0            13.0             18.0            11.0   \n",
      "12            84.0             8.0             77.0            21.0   \n",
      "13            87.0            66.0             93.0            48.0   \n",
      "14            71.0            76.0             77.0             2.0   \n",
      "15            80.0            43.0             45.0            85.0   \n",
      "16            42.0            32.0             99.0             9.0   \n",
      "\n",
      "    min_pred_oz_14  mean_pred_oz_14  Predictive Model Output  \n",
      "0             29.0             19.0                   rising  \n",
      "1             26.0             23.0                  falling  \n",
      "2             46.0             13.0                   stable  \n",
      "3             36.0              7.0                   rising  \n",
      "4             60.0             58.0                  stable   \n",
      "5             82.0             44.0                   stable  \n",
      "6             61.0              9.0                   stable  \n",
      "7              9.0             81.0                  falling  \n",
      "8             53.0             27.0                   rising  \n",
      "9             56.0             71.0                  falling  \n",
      "10            42.0             21.0                   stable  \n",
      "11            84.0             54.0                   stable  \n",
      "12            46.0             25.0                   stable  \n",
      "13            50.0             65.0                   stable  \n",
      "14            29.0             31.0                   rising  \n",
      "15             3.0             55.0                  falling  \n",
      "16             2.0             76.0                   stable  \n",
      "\n",
      "[17 rows x 93 columns]\n"
     ]
    }
   ],
   "source": [
    "\n",
    "df = pd.read_csv(r'C:\\Users\\cassi\\OneDrive\\Documents\\Data Science Bootcamp\\Class Folder\\Class Project\\model_data_ML_Mock.csv')\n",
    "print(df)"
   ]
  },
  {
   "cell_type": "code",
   "execution_count": 4,
   "id": "bdde6680",
   "metadata": {},
   "outputs": [
    {
     "ename": "KeyError",
     "evalue": "\"None of [Index(['PM25_max_pred', 'PM25_med_pred', 'PM25_mean_pred', 'O3_max_pred',\\n       'O3_med_pred', 'O3_mean_pred'],\\n      dtype='object')] are in the [columns]\"",
     "output_type": "error",
     "traceback": [
      "\u001b[1;31m---------------------------------------------------------------------------\u001b[0m",
      "\u001b[1;31mKeyError\u001b[0m                                  Traceback (most recent call last)",
      "\u001b[1;32m~\\AppData\\Local\\Temp\\ipykernel_40608\\1852824073.py\u001b[0m in \u001b[0;36m<module>\u001b[1;34m\u001b[0m\n\u001b[0;32m      1\u001b[0m \u001b[0mcols\u001b[0m \u001b[1;33m=\u001b[0m \u001b[1;33m[\u001b[0m\u001b[1;34m'PM25_max_pred'\u001b[0m\u001b[1;33m,\u001b[0m \u001b[1;34m'PM25_med_pred'\u001b[0m\u001b[1;33m,\u001b[0m \u001b[1;34m'PM25_mean_pred'\u001b[0m\u001b[1;33m,\u001b[0m \u001b[1;34m'O3_max_pred'\u001b[0m\u001b[1;33m,\u001b[0m \u001b[1;34m'O3_med_pred'\u001b[0m\u001b[1;33m,\u001b[0m \u001b[1;34m'O3_mean_pred'\u001b[0m\u001b[1;33m]\u001b[0m\u001b[1;33m\u001b[0m\u001b[1;33m\u001b[0m\u001b[0m\n\u001b[0;32m      2\u001b[0m \u001b[1;33m\u001b[0m\u001b[0m\n\u001b[1;32m----> 3\u001b[1;33m \u001b[0mcheck_df\u001b[0m \u001b[1;33m=\u001b[0m \u001b[0mdf\u001b[0m\u001b[1;33m[\u001b[0m\u001b[0mcols\u001b[0m\u001b[1;33m]\u001b[0m\u001b[1;33m\u001b[0m\u001b[1;33m\u001b[0m\u001b[0m\n\u001b[0m\u001b[0;32m      4\u001b[0m \u001b[1;33m\u001b[0m\u001b[0m\n\u001b[0;32m      5\u001b[0m \u001b[0mcheck_df\u001b[0m\u001b[1;33m.\u001b[0m\u001b[0mhead\u001b[0m\u001b[1;33m(\u001b[0m\u001b[1;33m)\u001b[0m\u001b[1;33m\u001b[0m\u001b[1;33m\u001b[0m\u001b[0m\n",
      "\u001b[1;32m~\\anaconda3\\envs\\FinalProject_mlenv\\lib\\site-packages\\pandas\\core\\frame.py\u001b[0m in \u001b[0;36m__getitem__\u001b[1;34m(self, key)\u001b[0m\n\u001b[0;32m   3462\u001b[0m             \u001b[1;32mif\u001b[0m \u001b[0mis_iterator\u001b[0m\u001b[1;33m(\u001b[0m\u001b[0mkey\u001b[0m\u001b[1;33m)\u001b[0m\u001b[1;33m:\u001b[0m\u001b[1;33m\u001b[0m\u001b[1;33m\u001b[0m\u001b[0m\n\u001b[0;32m   3463\u001b[0m                 \u001b[0mkey\u001b[0m \u001b[1;33m=\u001b[0m \u001b[0mlist\u001b[0m\u001b[1;33m(\u001b[0m\u001b[0mkey\u001b[0m\u001b[1;33m)\u001b[0m\u001b[1;33m\u001b[0m\u001b[1;33m\u001b[0m\u001b[0m\n\u001b[1;32m-> 3464\u001b[1;33m             \u001b[0mindexer\u001b[0m \u001b[1;33m=\u001b[0m \u001b[0mself\u001b[0m\u001b[1;33m.\u001b[0m\u001b[0mloc\u001b[0m\u001b[1;33m.\u001b[0m\u001b[0m_get_listlike_indexer\u001b[0m\u001b[1;33m(\u001b[0m\u001b[0mkey\u001b[0m\u001b[1;33m,\u001b[0m \u001b[0maxis\u001b[0m\u001b[1;33m=\u001b[0m\u001b[1;36m1\u001b[0m\u001b[1;33m)\u001b[0m\u001b[1;33m[\u001b[0m\u001b[1;36m1\u001b[0m\u001b[1;33m]\u001b[0m\u001b[1;33m\u001b[0m\u001b[1;33m\u001b[0m\u001b[0m\n\u001b[0m\u001b[0;32m   3465\u001b[0m \u001b[1;33m\u001b[0m\u001b[0m\n\u001b[0;32m   3466\u001b[0m         \u001b[1;31m# take() does not accept boolean indexers\u001b[0m\u001b[1;33m\u001b[0m\u001b[1;33m\u001b[0m\u001b[1;33m\u001b[0m\u001b[0m\n",
      "\u001b[1;32m~\\anaconda3\\envs\\FinalProject_mlenv\\lib\\site-packages\\pandas\\core\\indexing.py\u001b[0m in \u001b[0;36m_get_listlike_indexer\u001b[1;34m(self, key, axis)\u001b[0m\n\u001b[0;32m   1312\u001b[0m             \u001b[0mkeyarr\u001b[0m\u001b[1;33m,\u001b[0m \u001b[0mindexer\u001b[0m\u001b[1;33m,\u001b[0m \u001b[0mnew_indexer\u001b[0m \u001b[1;33m=\u001b[0m \u001b[0max\u001b[0m\u001b[1;33m.\u001b[0m\u001b[0m_reindex_non_unique\u001b[0m\u001b[1;33m(\u001b[0m\u001b[0mkeyarr\u001b[0m\u001b[1;33m)\u001b[0m\u001b[1;33m\u001b[0m\u001b[1;33m\u001b[0m\u001b[0m\n\u001b[0;32m   1313\u001b[0m \u001b[1;33m\u001b[0m\u001b[0m\n\u001b[1;32m-> 1314\u001b[1;33m         \u001b[0mself\u001b[0m\u001b[1;33m.\u001b[0m\u001b[0m_validate_read_indexer\u001b[0m\u001b[1;33m(\u001b[0m\u001b[0mkeyarr\u001b[0m\u001b[1;33m,\u001b[0m \u001b[0mindexer\u001b[0m\u001b[1;33m,\u001b[0m \u001b[0maxis\u001b[0m\u001b[1;33m)\u001b[0m\u001b[1;33m\u001b[0m\u001b[1;33m\u001b[0m\u001b[0m\n\u001b[0m\u001b[0;32m   1315\u001b[0m \u001b[1;33m\u001b[0m\u001b[0m\n\u001b[0;32m   1316\u001b[0m         if needs_i8_conversion(ax.dtype) or isinstance(\n",
      "\u001b[1;32m~\\anaconda3\\envs\\FinalProject_mlenv\\lib\\site-packages\\pandas\\core\\indexing.py\u001b[0m in \u001b[0;36m_validate_read_indexer\u001b[1;34m(self, key, indexer, axis)\u001b[0m\n\u001b[0;32m   1372\u001b[0m                 \u001b[1;32mif\u001b[0m \u001b[0muse_interval_msg\u001b[0m\u001b[1;33m:\u001b[0m\u001b[1;33m\u001b[0m\u001b[1;33m\u001b[0m\u001b[0m\n\u001b[0;32m   1373\u001b[0m                     \u001b[0mkey\u001b[0m \u001b[1;33m=\u001b[0m \u001b[0mlist\u001b[0m\u001b[1;33m(\u001b[0m\u001b[0mkey\u001b[0m\u001b[1;33m)\u001b[0m\u001b[1;33m\u001b[0m\u001b[1;33m\u001b[0m\u001b[0m\n\u001b[1;32m-> 1374\u001b[1;33m                 \u001b[1;32mraise\u001b[0m \u001b[0mKeyError\u001b[0m\u001b[1;33m(\u001b[0m\u001b[1;34mf\"None of [{key}] are in the [{axis_name}]\"\u001b[0m\u001b[1;33m)\u001b[0m\u001b[1;33m\u001b[0m\u001b[1;33m\u001b[0m\u001b[0m\n\u001b[0m\u001b[0;32m   1375\u001b[0m \u001b[1;33m\u001b[0m\u001b[0m\n\u001b[0;32m   1376\u001b[0m             \u001b[0mnot_found\u001b[0m \u001b[1;33m=\u001b[0m \u001b[0mlist\u001b[0m\u001b[1;33m(\u001b[0m\u001b[0mensure_index\u001b[0m\u001b[1;33m(\u001b[0m\u001b[0mkey\u001b[0m\u001b[1;33m)\u001b[0m\u001b[1;33m[\u001b[0m\u001b[0mmissing_mask\u001b[0m\u001b[1;33m.\u001b[0m\u001b[0mnonzero\u001b[0m\u001b[1;33m(\u001b[0m\u001b[1;33m)\u001b[0m\u001b[1;33m[\u001b[0m\u001b[1;36m0\u001b[0m\u001b[1;33m]\u001b[0m\u001b[1;33m]\u001b[0m\u001b[1;33m.\u001b[0m\u001b[0munique\u001b[0m\u001b[1;33m(\u001b[0m\u001b[1;33m)\u001b[0m\u001b[1;33m)\u001b[0m\u001b[1;33m\u001b[0m\u001b[1;33m\u001b[0m\u001b[0m\n",
      "\u001b[1;31mKeyError\u001b[0m: \"None of [Index(['PM25_max_pred', 'PM25_med_pred', 'PM25_mean_pred', 'O3_max_pred',\\n       'O3_med_pred', 'O3_mean_pred'],\\n      dtype='object')] are in the [columns]\""
     ]
    }
   ],
   "source": [
    "cols = ['PM25_max_pred', 'PM25_med_pred', 'PM25_mean_pred', 'O3_max_pred', 'O3_med_pred', 'O3_mean_pred']\n",
    "\n",
    "check_df = df[cols]\n",
    "\n",
    "check_df.head()"
   ]
  }
 ],
 "metadata": {
  "kernelspec": {
   "display_name": "FinalProject_mlenv",
   "language": "python",
   "name": "finalproject_mlenv"
  },
  "language_info": {
   "codemirror_mode": {
    "name": "ipython",
    "version": 3
   },
   "file_extension": ".py",
   "mimetype": "text/x-python",
   "name": "python",
   "nbconvert_exporter": "python",
   "pygments_lexer": "ipython3",
   "version": "3.7.13"
  }
 },
 "nbformat": 4,
 "nbformat_minor": 5
}
