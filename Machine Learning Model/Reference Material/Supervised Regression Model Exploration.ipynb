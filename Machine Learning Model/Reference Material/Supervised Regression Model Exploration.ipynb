{
 "cells": [
  {
   "cell_type": "code",
   "execution_count": null,
   "id": "2539f037",
   "metadata": {},
   "outputs": [],
   "source": [
    "# Dependencies\n",
    "import pandas as pd\n",
    "from pathlib import Path\n",
    "import matplotlib.pyplot as plt\n",
    "from sklearn.linear_model import LinearRegression"
   ]
  },
  {
   "cell_type": "code",
   "execution_count": null,
   "id": "a6bd9cf2",
   "metadata": {},
   "outputs": [],
   "source": [
    "# Import File, this is a palce holder for the database\n",
    "df = pd.read_csv(Path('./Resources/Name_of_File_Here.csv'))\n",
    "df.head()"
   ]
  },
  {
   "cell_type": "code",
   "execution_count": null,
   "id": "faca6baf",
   "metadata": {},
   "outputs": [],
   "source": [
    "# Visual inspection of relationships between variables\n",
    "plt.scatter(df.Independent_Variable, df.Dependent_Variable)\n",
    "plt.xlabel('Independent_Variable')\n",
    "plt.ylabel('Dependent_Variable')\n",
    "plt.show()"
   ]
  },
  {
   "cell_type": "code",
   "execution_count": null,
   "id": "eb5a775c",
   "metadata": {},
   "outputs": [],
   "source": [
    "# Split and format data to meet requirments of scikit-learn library (17.2.3)\n",
    "# Assign the X to input variable\n",
    "X = df.Independent_Variable.values.reshape(-1, 1)"
   ]
  },
  {
   "cell_type": "code",
   "execution_count": null,
   "id": "8fd8d2b8",
   "metadata": {},
   "outputs": [],
   "source": [
    "# Examine the shape of X\n",
    "X.shape"
   ]
  },
  {
   "cell_type": "code",
   "execution_count": null,
   "id": "5ae636bb",
   "metadata": {},
   "outputs": [],
   "source": [
    "# Assign target/output variable to y, reshaping not needed\n",
    "y = df.Dependent_Variable"
   ]
  },
  {
   "cell_type": "code",
   "execution_count": null,
   "id": "8fcd302b",
   "metadata": {},
   "outputs": [],
   "source": [
    "# Create an instance of the model, LinearRegression is a palceholder for now until the model is fitted\n",
    "model = LinearRegression()"
   ]
  },
  {
   "cell_type": "code",
   "execution_count": null,
   "id": "bdec19a0",
   "metadata": {},
   "outputs": [],
   "source": [
    "# Begin fitting the model while in the learning stage\n",
    "model.fit(X, y)"
   ]
  },
  {
   "cell_type": "code",
   "execution_count": null,
   "id": "0919dd34",
   "metadata": {},
   "outputs": [],
   "source": [
    "# Generate predictions\n",
    "y_pred = model.predict(X)\n",
    "print(y_pred.shape)"
   ]
  },
  {
   "cell_type": "code",
   "execution_count": null,
   "id": "3706b211",
   "metadata": {},
   "outputs": [],
   "source": [
    "# Plot predictions\n",
    "plt.scatter(X, y)\n",
    "plt.plot(X, y_pred, color='red')\n",
    "plt.show()"
   ]
  },
  {
   "cell_type": "code",
   "execution_count": null,
   "id": "bb389504",
   "metadata": {},
   "outputs": [],
   "source": [
    "# Examine parameters of model\n",
    "print(model.coef_)\n",
    "print(model.intercept_)"
   ]
  }
 ],
 "metadata": {
  "kernelspec": {
   "display_name": "FinalProject_mlenv",
   "language": "python",
   "name": "finalproject_mlenv"
  },
  "language_info": {
   "codemirror_mode": {
    "name": "ipython",
    "version": 3
   },
   "file_extension": ".py",
   "mimetype": "text/x-python",
   "name": "python",
   "nbconvert_exporter": "python",
   "pygments_lexer": "ipython3",
   "version": "3.7.13"
  }
 },
 "nbformat": 4,
 "nbformat_minor": 5
}
