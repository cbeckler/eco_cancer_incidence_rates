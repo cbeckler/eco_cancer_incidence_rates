{
 "cells": [
  {
   "cell_type": "code",
   "execution_count": null,
   "id": "6a6cdd8a",
   "metadata": {},
   "outputs": [],
   "source": [
    "# Dependencies\n",
    "import pandas as pd\n",
    "from pathlib import Path\n",
    "import matplotlib.pyplot as plt\n",
    "from sklearn.linear_model import LinearRegression"
   ]
  },
  {
   "cell_type": "code",
   "execution_count": null,
   "id": "be63af71",
   "metadata": {},
   "outputs": [],
   "source": [
    "# Import File\n",
    "df = pd.read_csv(Path('./Resources/Name_of_File_Here.csv'))\n",
    "df.head()"
   ]
  },
  {
   "cell_type": "code",
   "execution_count": null,
   "id": "044c8a01",
   "metadata": {},
   "outputs": [],
   "source": [
    "# Visual inspection of relationships between variables\n",
    "plt.scatter(df.Independent_Variable, df.Dependent_Variable)\n",
    "plt.xlabel('Independent_Variable')\n",
    "plt.ylabel('Dependent_Variable')\n",
    "plt.show()"
   ]
  },
  {
   "cell_type": "code",
   "execution_count": null,
   "id": "60fa76a9",
   "metadata": {},
   "outputs": [],
   "source": [
    "# Split and format data to meet requirments of scikit-learn library (17.2.3)\n",
    "# Assign the X to input variable\n",
    "X = df.Independent_Variable.values.reshape(-1, 1)"
   ]
  },
  {
   "cell_type": "code",
   "execution_count": null,
   "id": "7099cc08",
   "metadata": {},
   "outputs": [],
   "source": [
    "# Examine the shape of X\n",
    "X.shape"
   ]
  },
  {
   "cell_type": "code",
   "execution_count": null,
   "id": "a779b4d1",
   "metadata": {},
   "outputs": [],
   "source": [
    "# Assign target/output variable to y, reshaping not needed\n",
    "y = df.Dependent_Variable"
   ]
  },
  {
   "cell_type": "code",
   "execution_count": null,
   "id": "a22c9535",
   "metadata": {},
   "outputs": [],
   "source": [
    "# Create an instance of the model, LinearRegression is a palceholder for now until the model is fitted\n",
    "model = LinearRegression()"
   ]
  },
  {
   "cell_type": "code",
   "execution_count": null,
   "id": "3d7f33a5",
   "metadata": {},
   "outputs": [],
   "source": [
    "# Begin fitting the model while in the learning stage\n",
    "model.fit(X, y)"
   ]
  },
  {
   "cell_type": "code",
   "execution_count": null,
   "id": "869973c4",
   "metadata": {},
   "outputs": [],
   "source": [
    "# Generate predictions\n",
    "y_pred = model.predict(X)\n",
    "print(y_pred.shape)"
   ]
  },
  {
   "cell_type": "code",
   "execution_count": null,
   "id": "6e87c6d1",
   "metadata": {},
   "outputs": [],
   "source": [
    "# Plot predictions\n",
    "plt.scatter(X, y)\n",
    "plt.plot(X, y_pred, color='red')\n",
    "plt.show()"
   ]
  },
  {
   "cell_type": "code",
   "execution_count": null,
   "id": "61c502b9",
   "metadata": {},
   "outputs": [],
   "source": [
    "# Examine parameters of model\n",
    "print(model.coef_)\n",
    "print(model.intercept_)"
   ]
  }
 ],
 "metadata": {
  "kernelspec": {
   "display_name": "FinalProject_mlenv",
   "language": "python",
   "name": "finalproject_mlenv"
  },
  "language_info": {
   "codemirror_mode": {
    "name": "ipython",
    "version": 3
   },
   "file_extension": ".py",
   "mimetype": "text/x-python",
   "name": "python",
   "nbconvert_exporter": "python",
   "pygments_lexer": "ipython3",
   "version": "3.7.13"
  }
 },
 "nbformat": 4,
 "nbformat_minor": 5
}
