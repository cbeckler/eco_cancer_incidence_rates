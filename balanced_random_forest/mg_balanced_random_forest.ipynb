{
 "cells": [
  {
   "cell_type": "code",
   "execution_count": 1,
   "id": "60f5427e",
   "metadata": {},
   "outputs": [],
   "source": [
    "import numpy as np\n",
    "import pandas as pd\n",
    "from pathlib import Path\n",
    "from collections import Counter\n",
    "from sklearn.metrics import balanced_accuracy_score\n",
    "from sklearn.metrics import confusion_matrix\n",
    "from imblearn.metrics import classification_report_imbalanced\n",
    "from sklearn.model_selection import train_test_split\n",
    "from sklearn.preprocessing import StandardScaler\n",
    "from imblearn.over_sampling import SMOTE\n"
   ]
  },
  {
   "cell_type": "code",
   "execution_count": 2,
   "id": "69984208",
   "metadata": {},
   "outputs": [],
   "source": [
    "#connect to database\n",
    "\n",
    "import pandas as pd\n",
    "\n",
    "conn_path = \"/Users/megsmacbookpro/Desktop/final_project/final_project/Resources/db_conn_info.csv\"\n",
    "\n",
    "conn_info = pd.read_csv(conn_path)\n",
    "\n",
    "db_name = conn_info['db_name'][0]\n",
    "\n",
    "db_pw = conn_info['password'][0]\n",
    "\n",
    "db_host = conn_info['host'][0]\n",
    "\n",
    "db_port = conn_info['port'][0]\n",
    "\n",
    "db_user = conn_info['user'][0]"
   ]
  },
  {
   "cell_type": "code",
   "execution_count": 3,
   "id": "7c68edfa",
   "metadata": {},
   "outputs": [],
   "source": [
    "from sqlalchemy import create_engine\n",
    "\n",
    "engine = create_engine(f'postgresql://{db_name}:{db_pw}@{db_host}:{db_port}/{db_user}')"
   ]
  },
  {
   "cell_type": "code",
   "execution_count": 20,
   "id": "dbab4a24",
   "metadata": {},
   "outputs": [
    {
     "data": {
      "text/html": [
       "<div>\n",
       "<style scoped>\n",
       "    .dataframe tbody tr th:only-of-type {\n",
       "        vertical-align: middle;\n",
       "    }\n",
       "\n",
       "    .dataframe tbody tr th {\n",
       "        vertical-align: top;\n",
       "    }\n",
       "\n",
       "    .dataframe thead th {\n",
       "        text-align: right;\n",
       "    }\n",
       "</style>\n",
       "<table border=\"1\" class=\"dataframe\">\n",
       "  <thead>\n",
       "    <tr style=\"text-align: right;\">\n",
       "      <th></th>\n",
       "      <th>index</th>\n",
       "      <th>FIPS</th>\n",
       "      <th>recent_trend</th>\n",
       "      <th>PM25_max_pred</th>\n",
       "      <th>PM25_med_pred</th>\n",
       "      <th>PM25_mean_pred</th>\n",
       "      <th>O3_max_pred</th>\n",
       "      <th>O3_med_pred</th>\n",
       "      <th>O3_mean_pred</th>\n",
       "      <th>PM25_max_pred_2001</th>\n",
       "      <th>...</th>\n",
       "      <th>O3_med_pred_2005</th>\n",
       "      <th>O3_med_pred_2006</th>\n",
       "      <th>O3_med_pred_2007</th>\n",
       "      <th>O3_med_pred_2008</th>\n",
       "      <th>O3_med_pred_2009</th>\n",
       "      <th>O3_med_pred_2010</th>\n",
       "      <th>O3_med_pred_2011</th>\n",
       "      <th>O3_med_pred_2012</th>\n",
       "      <th>O3_med_pred_2013</th>\n",
       "      <th>O3_med_pred_2014</th>\n",
       "    </tr>\n",
       "  </thead>\n",
       "  <tbody>\n",
       "    <tr>\n",
       "      <th>0</th>\n",
       "      <td>0</td>\n",
       "      <td>1101</td>\n",
       "      <td>falling</td>\n",
       "      <td>12.555164</td>\n",
       "      <td>12.013325</td>\n",
       "      <td>11.958884</td>\n",
       "      <td>41.874165</td>\n",
       "      <td>39.939759</td>\n",
       "      <td>39.977164</td>\n",
       "      <td>13.365598</td>\n",
       "      <td>...</td>\n",
       "      <td>40.567937</td>\n",
       "      <td>43.333084</td>\n",
       "      <td>43.589498</td>\n",
       "      <td>40.750847</td>\n",
       "      <td>36.326936</td>\n",
       "      <td>41.478252</td>\n",
       "      <td>41.055674</td>\n",
       "      <td>39.470118</td>\n",
       "      <td>36.512861</td>\n",
       "      <td>37.457633</td>\n",
       "    </tr>\n",
       "    <tr>\n",
       "      <th>1</th>\n",
       "      <td>1</td>\n",
       "      <td>1103</td>\n",
       "      <td>stable</td>\n",
       "      <td>13.287901</td>\n",
       "      <td>12.684610</td>\n",
       "      <td>12.647047</td>\n",
       "      <td>43.308170</td>\n",
       "      <td>41.901690</td>\n",
       "      <td>41.888594</td>\n",
       "      <td>15.564124</td>\n",
       "      <td>...</td>\n",
       "      <td>43.226680</td>\n",
       "      <td>44.786660</td>\n",
       "      <td>46.470120</td>\n",
       "      <td>42.158683</td>\n",
       "      <td>38.435499</td>\n",
       "      <td>42.927004</td>\n",
       "      <td>42.164915</td>\n",
       "      <td>41.937580</td>\n",
       "      <td>38.473920</td>\n",
       "      <td>38.021493</td>\n",
       "    </tr>\n",
       "    <tr>\n",
       "      <th>2</th>\n",
       "      <td>2</td>\n",
       "      <td>1105</td>\n",
       "      <td>stable</td>\n",
       "      <td>11.426605</td>\n",
       "      <td>11.072150</td>\n",
       "      <td>11.079387</td>\n",
       "      <td>39.805057</td>\n",
       "      <td>38.986625</td>\n",
       "      <td>39.022229</td>\n",
       "      <td>12.768430</td>\n",
       "      <td>...</td>\n",
       "      <td>40.612558</td>\n",
       "      <td>43.447473</td>\n",
       "      <td>43.062623</td>\n",
       "      <td>38.970321</td>\n",
       "      <td>34.915892</td>\n",
       "      <td>39.396689</td>\n",
       "      <td>38.999311</td>\n",
       "      <td>37.908802</td>\n",
       "      <td>35.517161</td>\n",
       "      <td>35.654156</td>\n",
       "    </tr>\n",
       "    <tr>\n",
       "      <th>3</th>\n",
       "      <td>3</td>\n",
       "      <td>1107</td>\n",
       "      <td>stable</td>\n",
       "      <td>11.594499</td>\n",
       "      <td>11.146401</td>\n",
       "      <td>11.155309</td>\n",
       "      <td>39.979953</td>\n",
       "      <td>39.173487</td>\n",
       "      <td>39.137133</td>\n",
       "      <td>13.199240</td>\n",
       "      <td>...</td>\n",
       "      <td>41.574587</td>\n",
       "      <td>43.677365</td>\n",
       "      <td>42.648266</td>\n",
       "      <td>38.709791</td>\n",
       "      <td>35.148054</td>\n",
       "      <td>39.154417</td>\n",
       "      <td>38.971029</td>\n",
       "      <td>38.468993</td>\n",
       "      <td>36.022568</td>\n",
       "      <td>35.750203</td>\n",
       "    </tr>\n",
       "    <tr>\n",
       "      <th>4</th>\n",
       "      <td>4</td>\n",
       "      <td>1109</td>\n",
       "      <td>stable</td>\n",
       "      <td>11.352271</td>\n",
       "      <td>10.939546</td>\n",
       "      <td>10.932512</td>\n",
       "      <td>40.690546</td>\n",
       "      <td>39.856677</td>\n",
       "      <td>39.866958</td>\n",
       "      <td>12.164619</td>\n",
       "      <td>...</td>\n",
       "      <td>40.589950</td>\n",
       "      <td>43.572161</td>\n",
       "      <td>43.102934</td>\n",
       "      <td>40.463900</td>\n",
       "      <td>36.734288</td>\n",
       "      <td>41.022877</td>\n",
       "      <td>40.996091</td>\n",
       "      <td>38.420984</td>\n",
       "      <td>36.382191</td>\n",
       "      <td>37.127240</td>\n",
       "    </tr>\n",
       "  </tbody>\n",
       "</table>\n",
       "<p>5 rows × 93 columns</p>\n",
       "</div>"
      ],
      "text/plain": [
       "   index  FIPS recent_trend  PM25_max_pred  PM25_med_pred  PM25_mean_pred  \\\n",
       "0      0  1101      falling      12.555164      12.013325       11.958884   \n",
       "1      1  1103       stable      13.287901      12.684610       12.647047   \n",
       "2      2  1105       stable      11.426605      11.072150       11.079387   \n",
       "3      3  1107       stable      11.594499      11.146401       11.155309   \n",
       "4      4  1109       stable      11.352271      10.939546       10.932512   \n",
       "\n",
       "   O3_max_pred  O3_med_pred  O3_mean_pred  PM25_max_pred_2001  ...  \\\n",
       "0    41.874165    39.939759     39.977164           13.365598  ...   \n",
       "1    43.308170    41.901690     41.888594           15.564124  ...   \n",
       "2    39.805057    38.986625     39.022229           12.768430  ...   \n",
       "3    39.979953    39.173487     39.137133           13.199240  ...   \n",
       "4    40.690546    39.856677     39.866958           12.164619  ...   \n",
       "\n",
       "   O3_med_pred_2005  O3_med_pred_2006  O3_med_pred_2007  O3_med_pred_2008  \\\n",
       "0         40.567937         43.333084         43.589498         40.750847   \n",
       "1         43.226680         44.786660         46.470120         42.158683   \n",
       "2         40.612558         43.447473         43.062623         38.970321   \n",
       "3         41.574587         43.677365         42.648266         38.709791   \n",
       "4         40.589950         43.572161         43.102934         40.463900   \n",
       "\n",
       "   O3_med_pred_2009  O3_med_pred_2010  O3_med_pred_2011  O3_med_pred_2012  \\\n",
       "0         36.326936         41.478252         41.055674         39.470118   \n",
       "1         38.435499         42.927004         42.164915         41.937580   \n",
       "2         34.915892         39.396689         38.999311         37.908802   \n",
       "3         35.148054         39.154417         38.971029         38.468993   \n",
       "4         36.734288         41.022877         40.996091         38.420984   \n",
       "\n",
       "   O3_med_pred_2013  O3_med_pred_2014  \n",
       "0         36.512861         37.457633  \n",
       "1         38.473920         38.021493  \n",
       "2         35.517161         35.654156  \n",
       "3         36.022568         35.750203  \n",
       "4         36.382191         37.127240  \n",
       "\n",
       "[5 rows x 93 columns]"
      ]
     },
     "execution_count": 20,
     "metadata": {},
     "output_type": "execute_result"
    }
   ],
   "source": [
    "# import model_dataset\n",
    "df = pd.read_sql(\"select * from model_dataset\", engine)\n",
    "\n",
    "df.head()"
   ]
  },
  {
   "cell_type": "code",
   "execution_count": 5,
   "id": "11e35b2d",
   "metadata": {},
   "outputs": [
    {
     "data": {
      "text/plain": [
       "2096"
      ]
     },
     "execution_count": 5,
     "metadata": {},
     "output_type": "execute_result"
    }
   ],
   "source": [
    "len(df)"
   ]
  },
  {
   "cell_type": "code",
   "execution_count": 6,
   "id": "8a36e428",
   "metadata": {},
   "outputs": [],
   "source": [
    "X = df.drop(['index', 'FIPS', 'recent_trend'], axis=1)\n",
    "y = df['recent_trend']"
   ]
  },
  {
   "cell_type": "code",
   "execution_count": 7,
   "id": "e82290af",
   "metadata": {},
   "outputs": [
    {
     "data": {
      "text/plain": [
       "stable     1922\n",
       "falling     136\n",
       "rising       38\n",
       "Name: recent_trend, dtype: int64"
      ]
     },
     "execution_count": 7,
     "metadata": {},
     "output_type": "execute_result"
    }
   ],
   "source": [
    "y.value_counts()"
   ]
  },
  {
   "cell_type": "code",
   "execution_count": 58,
   "id": "5bb9cbcf",
   "metadata": {},
   "outputs": [],
   "source": [
    "#Split data into training and testing\n",
    "X_train, X_test, y_train, y_test = train_test_split(X, y, random_state=142, stratify=y)\n",
    "scaler =StandardScaler().fit(X_train)\n",
    "\n",
    "X_train_scaled = scaler.transform(X_train)\n",
    "X_test_scaled = scaler.transform(X_test)\n"
   ]
  },
  {
   "cell_type": "code",
   "execution_count": 59,
   "id": "ae3a32ad",
   "metadata": {},
   "outputs": [
    {
     "name": "stdout",
     "output_type": "stream",
     "text": [
      "y_resampled: Counter({'stable': 1441, 'falling': 1441, 'rising': 1441})\n"
     ]
    }
   ],
   "source": [
    "# SMOTE to resample training data\n",
    "X_resampled, y_resampled = SMOTE(\n",
    "    random_state=42,sampling_strategy='auto').fit_resample(\n",
    "    X_train_scaled, y_train)\n",
    "\n",
    "print(f'y_resampled: {Counter(y_resampled)}')\n"
   ]
  },
  {
   "cell_type": "code",
   "execution_count": 62,
   "id": "82bcd07e",
   "metadata": {},
   "outputs": [],
   "source": [
    "from imblearn.ensemble import BalancedRandomForestClassifier\n",
    "brc=BalancedRandomForestClassifier(random_state=142, n_estimators=120).fit(X_resampled, y_resampled)"
   ]
  },
  {
   "cell_type": "code",
   "execution_count": 63,
   "id": "16432455",
   "metadata": {},
   "outputs": [],
   "source": [
    "y_pred= brc.predict(X_test_scaled)\n",
    "y_pred_train= brc.predict(X_train_scaled)"
   ]
  },
  {
   "cell_type": "code",
   "execution_count": 64,
   "id": "049f4042",
   "metadata": {},
   "outputs": [
    {
     "data": {
      "text/plain": [
       "1.0"
      ]
     },
     "execution_count": 64,
     "metadata": {},
     "output_type": "execute_result"
    }
   ],
   "source": [
    "#balanced accuracy training\n",
    "balanced_accuracy_score(y_train, y_pred_train)\n"
   ]
  },
  {
   "cell_type": "code",
   "execution_count": 66,
   "id": "16e578b3",
   "metadata": {},
   "outputs": [
    {
     "data": {
      "text/plain": [
       "0.8057061586473351"
      ]
     },
     "execution_count": 66,
     "metadata": {},
     "output_type": "execute_result"
    }
   ],
   "source": [
    "# balanced accuracy score\n",
    "balanced_accuracy_score(y_test, y_pred)"
   ]
  },
  {
   "cell_type": "code",
   "execution_count": 67,
   "id": "eb691b5c",
   "metadata": {},
   "outputs": [
    {
     "data": {
      "text/plain": [
       "array([[ 30,   0,   4],\n",
       "       [  0,   5,   4],\n",
       "       [  8,   2, 471]])"
      ]
     },
     "execution_count": 67,
     "metadata": {},
     "output_type": "execute_result"
    }
   ],
   "source": [
    "#confusion matrix\n",
    "cm=confusion_matrix(y_test, y_pred)\n",
    "cm"
   ]
  },
  {
   "cell_type": "code",
   "execution_count": 68,
   "id": "b6c8dc23",
   "metadata": {},
   "outputs": [
    {
     "data": {
      "text/html": [
       "<div>\n",
       "<style scoped>\n",
       "    .dataframe tbody tr th:only-of-type {\n",
       "        vertical-align: middle;\n",
       "    }\n",
       "\n",
       "    .dataframe tbody tr th {\n",
       "        vertical-align: top;\n",
       "    }\n",
       "\n",
       "    .dataframe thead th {\n",
       "        text-align: right;\n",
       "    }\n",
       "</style>\n",
       "<table border=\"1\" class=\"dataframe\">\n",
       "  <thead>\n",
       "    <tr style=\"text-align: right;\">\n",
       "      <th></th>\n",
       "      <th>Prediction</th>\n",
       "      <th>Actual</th>\n",
       "    </tr>\n",
       "  </thead>\n",
       "  <tbody>\n",
       "    <tr>\n",
       "      <th>0</th>\n",
       "      <td>stable</td>\n",
       "      <td>stable</td>\n",
       "    </tr>\n",
       "    <tr>\n",
       "      <th>1</th>\n",
       "      <td>stable</td>\n",
       "      <td>stable</td>\n",
       "    </tr>\n",
       "    <tr>\n",
       "      <th>2</th>\n",
       "      <td>stable</td>\n",
       "      <td>stable</td>\n",
       "    </tr>\n",
       "    <tr>\n",
       "      <th>3</th>\n",
       "      <td>stable</td>\n",
       "      <td>stable</td>\n",
       "    </tr>\n",
       "    <tr>\n",
       "      <th>4</th>\n",
       "      <td>stable</td>\n",
       "      <td>stable</td>\n",
       "    </tr>\n",
       "    <tr>\n",
       "      <th>...</th>\n",
       "      <td>...</td>\n",
       "      <td>...</td>\n",
       "    </tr>\n",
       "    <tr>\n",
       "      <th>519</th>\n",
       "      <td>stable</td>\n",
       "      <td>stable</td>\n",
       "    </tr>\n",
       "    <tr>\n",
       "      <th>520</th>\n",
       "      <td>stable</td>\n",
       "      <td>stable</td>\n",
       "    </tr>\n",
       "    <tr>\n",
       "      <th>521</th>\n",
       "      <td>stable</td>\n",
       "      <td>stable</td>\n",
       "    </tr>\n",
       "    <tr>\n",
       "      <th>522</th>\n",
       "      <td>stable</td>\n",
       "      <td>stable</td>\n",
       "    </tr>\n",
       "    <tr>\n",
       "      <th>523</th>\n",
       "      <td>stable</td>\n",
       "      <td>stable</td>\n",
       "    </tr>\n",
       "  </tbody>\n",
       "</table>\n",
       "<p>524 rows × 2 columns</p>\n",
       "</div>"
      ],
      "text/plain": [
       "    Prediction  Actual\n",
       "0       stable  stable\n",
       "1       stable  stable\n",
       "2       stable  stable\n",
       "3       stable  stable\n",
       "4       stable  stable\n",
       "..         ...     ...\n",
       "519     stable  stable\n",
       "520     stable  stable\n",
       "521     stable  stable\n",
       "522     stable  stable\n",
       "523     stable  stable\n",
       "\n",
       "[524 rows x 2 columns]"
      ]
     },
     "execution_count": 68,
     "metadata": {},
     "output_type": "execute_result"
    }
   ],
   "source": [
    "brc_df=pd.DataFrame({\"Prediction\": y_pred, \"Actual\": y_test}).reset_index(drop=True)\n",
    "brc_df"
   ]
  },
  {
   "cell_type": "code",
   "execution_count": 69,
   "id": "2e5a6855",
   "metadata": {},
   "outputs": [
    {
     "name": "stdout",
     "output_type": "stream",
     "text": [
      "stable     479\n",
      "falling     38\n",
      "rising       7\n",
      "Name: Prediction, dtype: int64\n"
     ]
    }
   ],
   "source": [
    "print(brc_df.Prediction.value_counts())"
   ]
  },
  {
   "cell_type": "code",
   "execution_count": 70,
   "id": "0914f050",
   "metadata": {},
   "outputs": [
    {
     "name": "stdout",
     "output_type": "stream",
     "text": [
      "stable     481\n",
      "falling     34\n",
      "rising       9\n",
      "Name: Actual, dtype: int64\n"
     ]
    }
   ],
   "source": [
    "print(brc_df.Actual.value_counts())"
   ]
  },
  {
   "cell_type": "code",
   "execution_count": 71,
   "id": "2e2c6018",
   "metadata": {},
   "outputs": [
    {
     "name": "stdout",
     "output_type": "stream",
     "text": [
      "                   pre       rec       spe        f1       geo       iba       sup\n",
      "\n",
      "    falling       0.79      0.88      0.98      0.83      0.93      0.86        34\n",
      "     rising       0.71      0.56      1.00      0.63      0.74      0.53         9\n",
      "     stable       0.98      0.98      0.81      0.98      0.89      0.81       481\n",
      "\n",
      "avg / total       0.97      0.97      0.83      0.97      0.89      0.81       524\n",
      "\n"
     ]
    }
   ],
   "source": [
    "print(classification_report_imbalanced(y_test, y_pred))"
   ]
  },
  {
   "cell_type": "code",
   "execution_count": null,
   "id": "47dc0d89",
   "metadata": {},
   "outputs": [],
   "source": []
  },
  {
   "cell_type": "code",
   "execution_count": null,
   "id": "b2e75b53",
   "metadata": {},
   "outputs": [],
   "source": []
  },
  {
   "cell_type": "code",
   "execution_count": null,
   "id": "6cf51985",
   "metadata": {},
   "outputs": [],
   "source": []
  },
  {
   "cell_type": "code",
   "execution_count": null,
   "id": "71916e3b",
   "metadata": {},
   "outputs": [],
   "source": []
  },
  {
   "cell_type": "code",
   "execution_count": null,
   "id": "ed4f1419",
   "metadata": {},
   "outputs": [],
   "source": []
  },
  {
   "cell_type": "code",
   "execution_count": null,
   "id": "c7282518",
   "metadata": {},
   "outputs": [],
   "source": []
  },
  {
   "cell_type": "code",
   "execution_count": null,
   "id": "97d09034",
   "metadata": {},
   "outputs": [],
   "source": []
  },
  {
   "cell_type": "code",
   "execution_count": null,
   "id": "a317b804",
   "metadata": {},
   "outputs": [],
   "source": []
  }
 ],
 "metadata": {
  "kernelspec": {
   "display_name": "PythonData",
   "language": "python",
   "name": "pythondata"
  },
  "language_info": {
   "codemirror_mode": {
    "name": "ipython",
    "version": 3
   },
   "file_extension": ".py",
   "mimetype": "text/x-python",
   "name": "python",
   "nbconvert_exporter": "python",
   "pygments_lexer": "ipython3",
   "version": "3.7.13"
  }
 },
 "nbformat": 4,
 "nbformat_minor": 5
}
