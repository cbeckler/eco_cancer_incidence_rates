{
  "nbformat": 4,
  "nbformat_minor": 0,
  "metadata": {
    "colab": {
      "provenance": []
    },
    "kernelspec": {
      "name": "python3",
      "display_name": "Python 3"
    },
    "language_info": {
      "name": "python"
    }
  },
  "cells": [
    {
      "cell_type": "code",
      "execution_count": 2,
      "metadata": {
        "id": "M0DooZQkHWfo"
      },
      "outputs": [],
      "source": [
        "# final project - Random Forest Machine Learning model"
      ]
    },
    {
      "cell_type": "code",
      "source": [
        "# Initial imports\n",
        "\n",
        "import pandas as pd\n",
        "import numpy as np\n",
        "from pathlib import Path\n",
        "from sklearn.ensemble import RandomForestClassifier\n",
        "from sklearn.preprocessing import StandardScaler\n",
        "from sklearn.model_selection import train_test_split\n",
        "from sklearn.metrics import confusion_matrix, accuracy_score, classification_report\n",
        "from collections import Counter\n",
        "from imblearn.metrics import classification_report_imbalanced"
      ],
      "metadata": {
        "id": "GEyUwpNfHejD"
      },
      "execution_count": 6,
      "outputs": []
    },
    {
      "cell_type": "code",
      "source": [
        "# Read the CSV and Perform Basic Data Cleaning"
      ],
      "metadata": {
        "id": "5W7zB6IHIDYz"
      },
      "execution_count": 7,
      "outputs": []
    },
    {
      "cell_type": "code",
      "source": [
        "# Load the data\n",
        "file_path = Path('model_datase.csv')\n"
      ],
      "metadata": {
        "id": "t2lwBkkAII89"
      },
      "execution_count": 11,
      "outputs": []
    }
  ]
}