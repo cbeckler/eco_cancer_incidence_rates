{
  "nbformat": 4,
  "nbformat_minor": 0,
  "metadata": {
    "colab": {
      "provenance": []
    },
    "kernelspec": {
      "name": "python3",
      "display_name": "Python 3"
    },
    "language_info": {
      "name": "python"
    }
  },
  "cells": [
    {
      "cell_type": "code",
      "execution_count": 1,
      "metadata": {
        "colab": {
          "base_uri": "https://localhost:8080/"
        },
        "id": "1P4v_d2OhRuq",
        "outputId": "7379f293-ebfc-45c9-d8f8-abbf4aa29d95"
      },
      "outputs": [
        {
          "output_type": "stream",
          "name": "stdout",
          "text": [
            "\r0% [Working]\r            \rGet:1 http://ppa.launchpad.net/c2d4u.team/c2d4u4.0+/ubuntu bionic InRelease [15.9 kB]\n",
            "\r0% [Connecting to archive.ubuntu.com (91.189.91.38)] [Connecting to security.ub\r0% [Connecting to archive.ubuntu.com (91.189.91.38)] [Connecting to security.ub\r                                                                               \rGet:2 https://cloud.r-project.org/bin/linux/ubuntu bionic-cran40/ InRelease [3,626 B]\n",
            "\r0% [Connecting to archive.ubuntu.com (91.189.91.38)] [Connecting to security.ub\r0% [1 InRelease gpgv 15.9 kB] [Connecting to archive.ubuntu.com (91.189.91.38)]\r                                                                               \rHit:3 http://ppa.launchpad.net/cran/libgit2/ubuntu bionic InRelease\n",
            "\r0% [1 InRelease gpgv 15.9 kB] [Connecting to archive.ubuntu.com (91.189.91.38)]\r                                                                               \rHit:4 http://ppa.launchpad.net/deadsnakes/ppa/ubuntu bionic InRelease\n",
            "\r0% [1 InRelease gpgv 15.9 kB] [Waiting for headers] [Connecting to security.ubu\r                                                                               \rHit:5 http://ppa.launchpad.net/graphics-drivers/ppa/ubuntu bionic InRelease\n",
            "\r0% [1 InRelease gpgv 15.9 kB] [Waiting for headers] [Waiting for headers] [Wait\r                                                                               \rHit:6 http://archive.ubuntu.com/ubuntu bionic InRelease\n",
            "\r0% [1 InRelease gpgv 15.9 kB] [Waiting for headers] [Waiting for headers] [Wait\r                                                                               \rGet:7 http://security.ubuntu.com/ubuntu bionic-security InRelease [88.7 kB]\n",
            "Get:8 http://archive.ubuntu.com/ubuntu bionic-updates InRelease [88.7 kB]\n",
            "Ign:9 https://developer.download.nvidia.com/compute/machine-learning/repos/ubuntu1804/x86_64  InRelease\n",
            "Hit:10 https://developer.download.nvidia.com/compute/cuda/repos/ubuntu1804/x86_64  InRelease\n",
            "Hit:11 https://developer.download.nvidia.com/compute/machine-learning/repos/ubuntu1804/x86_64  Release\n",
            "Get:12 http://ppa.launchpad.net/c2d4u.team/c2d4u4.0+/ubuntu bionic/main Sources [2,235 kB]\n",
            "Get:13 http://ppa.launchpad.net/c2d4u.team/c2d4u4.0+/ubuntu bionic/main amd64 Packages [1,143 kB]\n",
            "Get:14 http://archive.ubuntu.com/ubuntu bionic-backports InRelease [83.3 kB]\n",
            "Fetched 3,659 kB in 3s (1,311 kB/s)\n",
            "Reading package lists... Done\n"
          ]
        }
      ],
      "source": [
        "import os\n",
        "# Find the latest version of spark 3.2 from http://www.apache.org/dist/spark/ and enter as the spark version\n",
        "# For example:\n",
        "# spark_version = 'spark-3.2.3'\n",
        "spark_version = 'spark-3.2.3'\n",
        "os.environ['SPARK_VERSION']=spark_version\n",
        "\n",
        "# Install Spark and Java\n",
        "!apt-get update\n",
        "!apt-get install openjdk-11-jdk-headless -qq > /dev/null\n",
        "!wget -q http://www.apache.org/dist/spark/$SPARK_VERSION/$SPARK_VERSION-bin-hadoop2.7.tgz\n",
        "!tar xf $SPARK_VERSION-bin-hadoop2.7.tgz\n",
        "!pip install -q findspark\n",
        "\n",
        "# Set Environment Variables\n",
        "import os\n",
        "os.environ[\"JAVA_HOME\"] = \"/usr/lib/jvm/java-11-openjdk-amd64\"\n",
        "os.environ[\"SPARK_HOME\"] = f\"/content/{spark_version}-bin-hadoop2.7\"\n",
        "\n",
        "# Start a SparkSession\n",
        "import findspark\n",
        "findspark.init()"
      ]
    },
    {
      "cell_type": "code",
      "source": [
        "# Download the Postgres driver that will allow Spark to interact with Postgres.\n",
        "!wget https://jdbc.postgresql.org/download/postgresql-42.2.16.jar"
      ],
      "metadata": {
        "colab": {
          "base_uri": "https://localhost:8080/"
        },
        "id": "rZ8H7lPshjKV",
        "outputId": "d4d3f806-dfb6-4523-c76e-0ca93e9c8fc7"
      },
      "execution_count": 2,
      "outputs": [
        {
          "output_type": "stream",
          "name": "stdout",
          "text": [
            "--2022-12-28 04:07:44--  https://jdbc.postgresql.org/download/postgresql-42.2.16.jar\n",
            "Resolving jdbc.postgresql.org (jdbc.postgresql.org)... 72.32.157.228, 2001:4800:3e1:1::228\n",
            "Connecting to jdbc.postgresql.org (jdbc.postgresql.org)|72.32.157.228|:443... connected.\n",
            "HTTP request sent, awaiting response... 200 OK\n",
            "Length: 1002883 (979K) [application/java-archive]\n",
            "Saving to: ‘postgresql-42.2.16.jar’\n",
            "\n",
            "postgresql-42.2.16. 100%[===================>] 979.38K  1.59MB/s    in 0.6s    \n",
            "\n",
            "2022-12-28 04:07:46 (1.59 MB/s) - ‘postgresql-42.2.16.jar’ saved [1002883/1002883]\n",
            "\n"
          ]
        }
      ]
    },
    {
      "cell_type": "code",
      "source": [
        "# Start spark session\n",
        "from pyspark.sql import SparkSession\n",
        "spark = SparkSession.builder.appName(\"ETL_final_project\").config(\"spark.driver.extraClassPath\",\"/content/postgresql-42.2.16.jar\").getOrCreate()"
      ],
      "metadata": {
        "id": "cutpOo4bh1fS"
      },
      "execution_count": 3,
      "outputs": []
    },
    {
      "cell_type": "code",
      "source": [
        "# import libraries for Exploratory Data Analysis\n",
        "import pandas as pd\n",
        "from pyspark import SparkFiles\n",
        "import numpy as no\n",
        "import matplotlib as mlp\n",
        "import matplotlib.pyplot as plt\n",
        "import seaborn as sn"
      ],
      "metadata": {
        "id": "69nImX3YqWGg"
      },
      "execution_count": 4,
      "outputs": []
    },
    {
      "cell_type": "code",
      "source": [
        "# Drive helper\n",
        "from google.colab import drive\n",
        "\n",
        "drive.mount('/content/drive')"
      ],
      "metadata": {
        "colab": {
          "base_uri": "https://localhost:8080/"
        },
        "id": "12uz6SdcjHAP",
        "outputId": "d93044dd-3c70-45c0-c254-19f3340bd906"
      },
      "execution_count": 5,
      "outputs": [
        {
          "output_type": "stream",
          "name": "stdout",
          "text": [
            "Mounted at /content/drive\n"
          ]
        }
      ]
    },
    {
      "cell_type": "code",
      "source": [
        "# path =\"/content/drive/MyDrive/data/Daily_County-Level_Ozone_Concentrations__2001-2016.csv\"\n",
        "# spark.sparkContext.addFile(path)\n",
        "# df = spark.read.option(\"encoding\", \"UTF-8\").csv(SparkFiles.get(\"\"), sep=\",\", header=True, inferSchema=True)\n",
        "# df.show()"
      ],
      "metadata": {
        "id": "hkFUfTYCtHyh"
      },
      "execution_count": 6,
      "outputs": []
    },
    {
      "cell_type": "code",
      "source": [
        "path =\"/content/drive/MyDrive/data/Daily_County-Level_Ozone_Concentrations__2001-2016.csv\"\n",
        "ozone_df= pd.read_csv(path)\n",
        "ozone_df.tail()\n"
      ],
      "metadata": {
        "id": "48JXL_nIoiHv",
        "colab": {
          "base_uri": "https://localhost:8080/",
          "height": 270
        },
        "outputId": "e8fbf4c2-3fe8-46a8-bed1-868c7eed4b7a"
      },
      "execution_count": 6,
      "outputs": [
        {
          "output_type": "execute_result",
          "data": {
            "text/plain": [
              "          Year Month  Day  statefips  countyfips  O3_max_pred  O3_med_pred  \\\n",
              "18168991  2016   DEC   31         56          37      41.8023     40.98200   \n",
              "18168992  2016   DEC   31         56          39      39.8256     39.24925   \n",
              "18168993  2016   DEC   31         56          41      42.7244     39.59090   \n",
              "18168994  2016   DEC   31         56          43      35.3622     33.30220   \n",
              "18168995  2016   DEC   31         56          45      39.6921     38.58465   \n",
              "\n",
              "          O3_mean_pred  O3_pop_pred  \n",
              "18168991     40.954517    41.030787  \n",
              "18168992     39.252300    39.160351  \n",
              "18168993     40.449267    40.374935  \n",
              "18168994     33.924567    34.047683  \n",
              "18168995     38.584650    38.673762  "
            ],
            "text/html": [
              "\n",
              "  <div id=\"df-3065e488-1900-46cc-83c4-2b83503b0ab0\">\n",
              "    <div class=\"colab-df-container\">\n",
              "      <div>\n",
              "<style scoped>\n",
              "    .dataframe tbody tr th:only-of-type {\n",
              "        vertical-align: middle;\n",
              "    }\n",
              "\n",
              "    .dataframe tbody tr th {\n",
              "        vertical-align: top;\n",
              "    }\n",
              "\n",
              "    .dataframe thead th {\n",
              "        text-align: right;\n",
              "    }\n",
              "</style>\n",
              "<table border=\"1\" class=\"dataframe\">\n",
              "  <thead>\n",
              "    <tr style=\"text-align: right;\">\n",
              "      <th></th>\n",
              "      <th>Year</th>\n",
              "      <th>Month</th>\n",
              "      <th>Day</th>\n",
              "      <th>statefips</th>\n",
              "      <th>countyfips</th>\n",
              "      <th>O3_max_pred</th>\n",
              "      <th>O3_med_pred</th>\n",
              "      <th>O3_mean_pred</th>\n",
              "      <th>O3_pop_pred</th>\n",
              "    </tr>\n",
              "  </thead>\n",
              "  <tbody>\n",
              "    <tr>\n",
              "      <th>18168991</th>\n",
              "      <td>2016</td>\n",
              "      <td>DEC</td>\n",
              "      <td>31</td>\n",
              "      <td>56</td>\n",
              "      <td>37</td>\n",
              "      <td>41.8023</td>\n",
              "      <td>40.98200</td>\n",
              "      <td>40.954517</td>\n",
              "      <td>41.030787</td>\n",
              "    </tr>\n",
              "    <tr>\n",
              "      <th>18168992</th>\n",
              "      <td>2016</td>\n",
              "      <td>DEC</td>\n",
              "      <td>31</td>\n",
              "      <td>56</td>\n",
              "      <td>39</td>\n",
              "      <td>39.8256</td>\n",
              "      <td>39.24925</td>\n",
              "      <td>39.252300</td>\n",
              "      <td>39.160351</td>\n",
              "    </tr>\n",
              "    <tr>\n",
              "      <th>18168993</th>\n",
              "      <td>2016</td>\n",
              "      <td>DEC</td>\n",
              "      <td>31</td>\n",
              "      <td>56</td>\n",
              "      <td>41</td>\n",
              "      <td>42.7244</td>\n",
              "      <td>39.59090</td>\n",
              "      <td>40.449267</td>\n",
              "      <td>40.374935</td>\n",
              "    </tr>\n",
              "    <tr>\n",
              "      <th>18168994</th>\n",
              "      <td>2016</td>\n",
              "      <td>DEC</td>\n",
              "      <td>31</td>\n",
              "      <td>56</td>\n",
              "      <td>43</td>\n",
              "      <td>35.3622</td>\n",
              "      <td>33.30220</td>\n",
              "      <td>33.924567</td>\n",
              "      <td>34.047683</td>\n",
              "    </tr>\n",
              "    <tr>\n",
              "      <th>18168995</th>\n",
              "      <td>2016</td>\n",
              "      <td>DEC</td>\n",
              "      <td>31</td>\n",
              "      <td>56</td>\n",
              "      <td>45</td>\n",
              "      <td>39.6921</td>\n",
              "      <td>38.58465</td>\n",
              "      <td>38.584650</td>\n",
              "      <td>38.673762</td>\n",
              "    </tr>\n",
              "  </tbody>\n",
              "</table>\n",
              "</div>\n",
              "      <button class=\"colab-df-convert\" onclick=\"convertToInteractive('df-3065e488-1900-46cc-83c4-2b83503b0ab0')\"\n",
              "              title=\"Convert this dataframe to an interactive table.\"\n",
              "              style=\"display:none;\">\n",
              "        \n",
              "  <svg xmlns=\"http://www.w3.org/2000/svg\" height=\"24px\"viewBox=\"0 0 24 24\"\n",
              "       width=\"24px\">\n",
              "    <path d=\"M0 0h24v24H0V0z\" fill=\"none\"/>\n",
              "    <path d=\"M18.56 5.44l.94 2.06.94-2.06 2.06-.94-2.06-.94-.94-2.06-.94 2.06-2.06.94zm-11 1L8.5 8.5l.94-2.06 2.06-.94-2.06-.94L8.5 2.5l-.94 2.06-2.06.94zm10 10l.94 2.06.94-2.06 2.06-.94-2.06-.94-.94-2.06-.94 2.06-2.06.94z\"/><path d=\"M17.41 7.96l-1.37-1.37c-.4-.4-.92-.59-1.43-.59-.52 0-1.04.2-1.43.59L10.3 9.45l-7.72 7.72c-.78.78-.78 2.05 0 2.83L4 21.41c.39.39.9.59 1.41.59.51 0 1.02-.2 1.41-.59l7.78-7.78 2.81-2.81c.8-.78.8-2.07 0-2.86zM5.41 20L4 18.59l7.72-7.72 1.47 1.35L5.41 20z\"/>\n",
              "  </svg>\n",
              "      </button>\n",
              "      \n",
              "  <style>\n",
              "    .colab-df-container {\n",
              "      display:flex;\n",
              "      flex-wrap:wrap;\n",
              "      gap: 12px;\n",
              "    }\n",
              "\n",
              "    .colab-df-convert {\n",
              "      background-color: #E8F0FE;\n",
              "      border: none;\n",
              "      border-radius: 50%;\n",
              "      cursor: pointer;\n",
              "      display: none;\n",
              "      fill: #1967D2;\n",
              "      height: 32px;\n",
              "      padding: 0 0 0 0;\n",
              "      width: 32px;\n",
              "    }\n",
              "\n",
              "    .colab-df-convert:hover {\n",
              "      background-color: #E2EBFA;\n",
              "      box-shadow: 0px 1px 2px rgba(60, 64, 67, 0.3), 0px 1px 3px 1px rgba(60, 64, 67, 0.15);\n",
              "      fill: #174EA6;\n",
              "    }\n",
              "\n",
              "    [theme=dark] .colab-df-convert {\n",
              "      background-color: #3B4455;\n",
              "      fill: #D2E3FC;\n",
              "    }\n",
              "\n",
              "    [theme=dark] .colab-df-convert:hover {\n",
              "      background-color: #434B5C;\n",
              "      box-shadow: 0px 1px 3px 1px rgba(0, 0, 0, 0.15);\n",
              "      filter: drop-shadow(0px 1px 2px rgba(0, 0, 0, 0.3));\n",
              "      fill: #FFFFFF;\n",
              "    }\n",
              "  </style>\n",
              "\n",
              "      <script>\n",
              "        const buttonEl =\n",
              "          document.querySelector('#df-3065e488-1900-46cc-83c4-2b83503b0ab0 button.colab-df-convert');\n",
              "        buttonEl.style.display =\n",
              "          google.colab.kernel.accessAllowed ? 'block' : 'none';\n",
              "\n",
              "        async function convertToInteractive(key) {\n",
              "          const element = document.querySelector('#df-3065e488-1900-46cc-83c4-2b83503b0ab0');\n",
              "          const dataTable =\n",
              "            await google.colab.kernel.invokeFunction('convertToInteractive',\n",
              "                                                     [key], {});\n",
              "          if (!dataTable) return;\n",
              "\n",
              "          const docLinkHtml = 'Like what you see? Visit the ' +\n",
              "            '<a target=\"_blank\" href=https://colab.research.google.com/notebooks/data_table.ipynb>data table notebook</a>'\n",
              "            + ' to learn more about interactive tables.';\n",
              "          element.innerHTML = '';\n",
              "          dataTable['output_type'] = 'display_data';\n",
              "          await google.colab.output.renderOutput(dataTable, element);\n",
              "          const docLink = document.createElement('div');\n",
              "          docLink.innerHTML = docLinkHtml;\n",
              "          element.appendChild(docLink);\n",
              "        }\n",
              "      </script>\n",
              "    </div>\n",
              "  </div>\n",
              "  "
            ]
          },
          "metadata": {},
          "execution_count": 6
        }
      ]
    },
    {
      "cell_type": "code",
      "source": [
        "path2=\"/content/drive/MyDrive/data/cancer_incidence.csv\"\n",
        "df_cancer=pd.read_csv(path2)\n",
        "pd.set_option('display.max_columns', None)\n",
        "df_cancer.head()"
      ],
      "metadata": {
        "colab": {
          "base_uri": "https://localhost:8080/",
          "height": 513
        },
        "id": "iLL-qPnrqQfi",
        "outputId": "06ae6847-e62d-414f-8601-cdc8d05a3acb"
      },
      "execution_count": 7,
      "outputs": [
        {
          "output_type": "execute_result",
          "data": {
            "text/plain": [
              "   index                         County   FIPS  \\\n",
              "0      0           US (SEER+NPCR)(1,10)      0   \n",
              "1      1  Autauga County, Alabama(6,10)   1001   \n",
              "2      2  Baldwin County, Alabama(6,10)   1003   \n",
              "3      3  Barbour County, Alabama(6,10)   1005   \n",
              "4      4     Bibb County, Alabama(6,10)   1007   \n",
              "\n",
              "  Age-Adjusted Incidence Rate(Ê) - cases per 100,000  \\\n",
              "0                                               62.4   \n",
              "1                                               74.9   \n",
              "2                                               66.9   \n",
              "3                                               74.6   \n",
              "4                                               86.4   \n",
              "\n",
              "  Lower 95% Confidence Interval Upper 95% Confidence Interval  \\\n",
              "0                          62.3                          62.6   \n",
              "1                          65.1                          85.7   \n",
              "2                          62.4                          71.7   \n",
              "3                          61.8                          89.4   \n",
              "4                            71                         104.2   \n",
              "\n",
              "  Average Annual Count Recent Trend  \\\n",
              "0               214614      falling   \n",
              "1                   43       stable   \n",
              "2                  170       stable   \n",
              "3                   25       stable   \n",
              "4                   23       stable   \n",
              "\n",
              "  Recent 5-Year Trend (ˆ) in Incidence Rates Lower 95% Confidence Interval.1  \\\n",
              "0                                       -2.5                              -3   \n",
              "1                                        0.5                           -14.9   \n",
              "2                                          3                           -10.2   \n",
              "3                                       -6.4                           -18.3   \n",
              "4                                       -4.5                           -31.4   \n",
              "\n",
              "  Upper 95% Confidence Interval.1  \n",
              "0                              -2  \n",
              "1                            18.6  \n",
              "2                            18.3  \n",
              "3                             7.3  \n",
              "4                            32.9  "
            ],
            "text/html": [
              "\n",
              "  <div id=\"df-2384d915-d5fb-4ada-a1f4-546f819e7ad8\">\n",
              "    <div class=\"colab-df-container\">\n",
              "      <div>\n",
              "<style scoped>\n",
              "    .dataframe tbody tr th:only-of-type {\n",
              "        vertical-align: middle;\n",
              "    }\n",
              "\n",
              "    .dataframe tbody tr th {\n",
              "        vertical-align: top;\n",
              "    }\n",
              "\n",
              "    .dataframe thead th {\n",
              "        text-align: right;\n",
              "    }\n",
              "</style>\n",
              "<table border=\"1\" class=\"dataframe\">\n",
              "  <thead>\n",
              "    <tr style=\"text-align: right;\">\n",
              "      <th></th>\n",
              "      <th>index</th>\n",
              "      <th>County</th>\n",
              "      <th>FIPS</th>\n",
              "      <th>Age-Adjusted Incidence Rate(Ê) - cases per 100,000</th>\n",
              "      <th>Lower 95% Confidence Interval</th>\n",
              "      <th>Upper 95% Confidence Interval</th>\n",
              "      <th>Average Annual Count</th>\n",
              "      <th>Recent Trend</th>\n",
              "      <th>Recent 5-Year Trend (ˆ) in Incidence Rates</th>\n",
              "      <th>Lower 95% Confidence Interval.1</th>\n",
              "      <th>Upper 95% Confidence Interval.1</th>\n",
              "    </tr>\n",
              "  </thead>\n",
              "  <tbody>\n",
              "    <tr>\n",
              "      <th>0</th>\n",
              "      <td>0</td>\n",
              "      <td>US (SEER+NPCR)(1,10)</td>\n",
              "      <td>0</td>\n",
              "      <td>62.4</td>\n",
              "      <td>62.3</td>\n",
              "      <td>62.6</td>\n",
              "      <td>214614</td>\n",
              "      <td>falling</td>\n",
              "      <td>-2.5</td>\n",
              "      <td>-3</td>\n",
              "      <td>-2</td>\n",
              "    </tr>\n",
              "    <tr>\n",
              "      <th>1</th>\n",
              "      <td>1</td>\n",
              "      <td>Autauga County, Alabama(6,10)</td>\n",
              "      <td>1001</td>\n",
              "      <td>74.9</td>\n",
              "      <td>65.1</td>\n",
              "      <td>85.7</td>\n",
              "      <td>43</td>\n",
              "      <td>stable</td>\n",
              "      <td>0.5</td>\n",
              "      <td>-14.9</td>\n",
              "      <td>18.6</td>\n",
              "    </tr>\n",
              "    <tr>\n",
              "      <th>2</th>\n",
              "      <td>2</td>\n",
              "      <td>Baldwin County, Alabama(6,10)</td>\n",
              "      <td>1003</td>\n",
              "      <td>66.9</td>\n",
              "      <td>62.4</td>\n",
              "      <td>71.7</td>\n",
              "      <td>170</td>\n",
              "      <td>stable</td>\n",
              "      <td>3</td>\n",
              "      <td>-10.2</td>\n",
              "      <td>18.3</td>\n",
              "    </tr>\n",
              "    <tr>\n",
              "      <th>3</th>\n",
              "      <td>3</td>\n",
              "      <td>Barbour County, Alabama(6,10)</td>\n",
              "      <td>1005</td>\n",
              "      <td>74.6</td>\n",
              "      <td>61.8</td>\n",
              "      <td>89.4</td>\n",
              "      <td>25</td>\n",
              "      <td>stable</td>\n",
              "      <td>-6.4</td>\n",
              "      <td>-18.3</td>\n",
              "      <td>7.3</td>\n",
              "    </tr>\n",
              "    <tr>\n",
              "      <th>4</th>\n",
              "      <td>4</td>\n",
              "      <td>Bibb County, Alabama(6,10)</td>\n",
              "      <td>1007</td>\n",
              "      <td>86.4</td>\n",
              "      <td>71</td>\n",
              "      <td>104.2</td>\n",
              "      <td>23</td>\n",
              "      <td>stable</td>\n",
              "      <td>-4.5</td>\n",
              "      <td>-31.4</td>\n",
              "      <td>32.9</td>\n",
              "    </tr>\n",
              "  </tbody>\n",
              "</table>\n",
              "</div>\n",
              "      <button class=\"colab-df-convert\" onclick=\"convertToInteractive('df-2384d915-d5fb-4ada-a1f4-546f819e7ad8')\"\n",
              "              title=\"Convert this dataframe to an interactive table.\"\n",
              "              style=\"display:none;\">\n",
              "        \n",
              "  <svg xmlns=\"http://www.w3.org/2000/svg\" height=\"24px\"viewBox=\"0 0 24 24\"\n",
              "       width=\"24px\">\n",
              "    <path d=\"M0 0h24v24H0V0z\" fill=\"none\"/>\n",
              "    <path d=\"M18.56 5.44l.94 2.06.94-2.06 2.06-.94-2.06-.94-.94-2.06-.94 2.06-2.06.94zm-11 1L8.5 8.5l.94-2.06 2.06-.94-2.06-.94L8.5 2.5l-.94 2.06-2.06.94zm10 10l.94 2.06.94-2.06 2.06-.94-2.06-.94-.94-2.06-.94 2.06-2.06.94z\"/><path d=\"M17.41 7.96l-1.37-1.37c-.4-.4-.92-.59-1.43-.59-.52 0-1.04.2-1.43.59L10.3 9.45l-7.72 7.72c-.78.78-.78 2.05 0 2.83L4 21.41c.39.39.9.59 1.41.59.51 0 1.02-.2 1.41-.59l7.78-7.78 2.81-2.81c.8-.78.8-2.07 0-2.86zM5.41 20L4 18.59l7.72-7.72 1.47 1.35L5.41 20z\"/>\n",
              "  </svg>\n",
              "      </button>\n",
              "      \n",
              "  <style>\n",
              "    .colab-df-container {\n",
              "      display:flex;\n",
              "      flex-wrap:wrap;\n",
              "      gap: 12px;\n",
              "    }\n",
              "\n",
              "    .colab-df-convert {\n",
              "      background-color: #E8F0FE;\n",
              "      border: none;\n",
              "      border-radius: 50%;\n",
              "      cursor: pointer;\n",
              "      display: none;\n",
              "      fill: #1967D2;\n",
              "      height: 32px;\n",
              "      padding: 0 0 0 0;\n",
              "      width: 32px;\n",
              "    }\n",
              "\n",
              "    .colab-df-convert:hover {\n",
              "      background-color: #E2EBFA;\n",
              "      box-shadow: 0px 1px 2px rgba(60, 64, 67, 0.3), 0px 1px 3px 1px rgba(60, 64, 67, 0.15);\n",
              "      fill: #174EA6;\n",
              "    }\n",
              "\n",
              "    [theme=dark] .colab-df-convert {\n",
              "      background-color: #3B4455;\n",
              "      fill: #D2E3FC;\n",
              "    }\n",
              "\n",
              "    [theme=dark] .colab-df-convert:hover {\n",
              "      background-color: #434B5C;\n",
              "      box-shadow: 0px 1px 3px 1px rgba(0, 0, 0, 0.15);\n",
              "      filter: drop-shadow(0px 1px 2px rgba(0, 0, 0, 0.3));\n",
              "      fill: #FFFFFF;\n",
              "    }\n",
              "  </style>\n",
              "\n",
              "      <script>\n",
              "        const buttonEl =\n",
              "          document.querySelector('#df-2384d915-d5fb-4ada-a1f4-546f819e7ad8 button.colab-df-convert');\n",
              "        buttonEl.style.display =\n",
              "          google.colab.kernel.accessAllowed ? 'block' : 'none';\n",
              "\n",
              "        async function convertToInteractive(key) {\n",
              "          const element = document.querySelector('#df-2384d915-d5fb-4ada-a1f4-546f819e7ad8');\n",
              "          const dataTable =\n",
              "            await google.colab.kernel.invokeFunction('convertToInteractive',\n",
              "                                                     [key], {});\n",
              "          if (!dataTable) return;\n",
              "\n",
              "          const docLinkHtml = 'Like what you see? Visit the ' +\n",
              "            '<a target=\"_blank\" href=https://colab.research.google.com/notebooks/data_table.ipynb>data table notebook</a>'\n",
              "            + ' to learn more about interactive tables.';\n",
              "          element.innerHTML = '';\n",
              "          dataTable['output_type'] = 'display_data';\n",
              "          await google.colab.output.renderOutput(dataTable, element);\n",
              "          const docLink = document.createElement('div');\n",
              "          docLink.innerHTML = docLinkHtml;\n",
              "          element.appendChild(docLink);\n",
              "        }\n",
              "      </script>\n",
              "    </div>\n",
              "  </div>\n",
              "  "
            ]
          },
          "metadata": {},
          "execution_count": 7
        }
      ]
    },
    {
      "cell_type": "code",
      "source": [
        "#get numbber of rows and columns\n",
        "ozone_df.shape"
      ],
      "metadata": {
        "colab": {
          "base_uri": "https://localhost:8080/"
        },
        "id": "WPqdFms7Nqzl",
        "outputId": "820b2160-9880-4413-bda4-94581e3bc7a0"
      },
      "execution_count": 8,
      "outputs": [
        {
          "output_type": "execute_result",
          "data": {
            "text/plain": [
              "(18168996, 9)"
            ]
          },
          "metadata": {},
          "execution_count": 8
        }
      ]
    },
    {
      "cell_type": "code",
      "source": [
        "df_cancer.shape"
      ],
      "metadata": {
        "colab": {
          "base_uri": "https://localhost:8080/"
        },
        "id": "sH6LzEY5Nqsl",
        "outputId": "832156ec-77a4-4be9-8a97-40fe36bccbeb"
      },
      "execution_count": 9,
      "outputs": [
        {
          "output_type": "execute_result",
          "data": {
            "text/plain": [
              "(3141, 11)"
            ]
          },
          "metadata": {},
          "execution_count": 9
        }
      ]
    },
    {
      "cell_type": "code",
      "source": [
        "df_cancer.dtypes"
      ],
      "metadata": {
        "colab": {
          "base_uri": "https://localhost:8080/"
        },
        "id": "92AGXKAMNqav",
        "outputId": "68e1588e-6c05-4591-9e3b-8ebb2c8fdaf2"
      },
      "execution_count": 10,
      "outputs": [
        {
          "output_type": "execute_result",
          "data": {
            "text/plain": [
              "index                                                  int64\n",
              "County                                                object\n",
              " FIPS                                                  int64\n",
              "Age-Adjusted Incidence Rate(Ê) - cases per 100,000    object\n",
              "Lower 95% Confidence Interval                         object\n",
              "Upper 95% Confidence Interval                         object\n",
              "Average Annual Count                                  object\n",
              "Recent Trend                                          object\n",
              "Recent 5-Year Trend (ˆ) in Incidence Rates            object\n",
              "Lower 95% Confidence Interval.1                       object\n",
              "Upper 95% Confidence Interval.1                       object\n",
              "dtype: object"
            ]
          },
          "metadata": {},
          "execution_count": 10
        }
      ]
    },
    {
      "cell_type": "code",
      "source": [
        "duplicate_cancer_df = df_cancer[df_cancer.duplicated()]\n",
        "print('duplicacte_cancer_df: ', duplicate_cancer_df.shape)"
      ],
      "metadata": {
        "colab": {
          "base_uri": "https://localhost:8080/"
        },
        "id": "NkzgzLD6QA59",
        "outputId": "45b8e229-3cb8-4f58-e791-371efdf8edae"
      },
      "execution_count": 13,
      "outputs": [
        {
          "output_type": "stream",
          "name": "stdout",
          "text": [
            "duplicacte_cancer_df:  (0, 11)\n"
          ]
        }
      ]
    },
    {
      "cell_type": "code",
      "source": [
        "duplicate_ozone_df = ozone_df[ozone_df.duplicated()]\n",
        "print('duplicate_ozone_df: ', duplicate_ozone_df.shape)"
      ],
      "metadata": {
        "colab": {
          "base_uri": "https://localhost:8080/"
        },
        "id": "49FW677WQAyA",
        "outputId": "4d7c8107-94c2-4245-a9d3-9060122535e7"
      },
      "execution_count": 12,
      "outputs": [
        {
          "output_type": "stream",
          "name": "stdout",
          "text": [
            "duplicate_ozone_df:  (0, 9)\n"
          ]
        }
      ]
    },
    {
      "cell_type": "code",
      "source": [
        "ozone_df.info()"
      ],
      "metadata": {
        "colab": {
          "base_uri": "https://localhost:8080/"
        },
        "id": "O8zlQJG8Werh",
        "outputId": "9994f0aa-692c-4679-bb66-78b04104ca22"
      },
      "execution_count": 14,
      "outputs": [
        {
          "output_type": "stream",
          "name": "stdout",
          "text": [
            "<class 'pandas.core.frame.DataFrame'>\n",
            "RangeIndex: 18168996 entries, 0 to 18168995\n",
            "Data columns (total 9 columns):\n",
            " #   Column        Dtype  \n",
            "---  ------        -----  \n",
            " 0   Year          int64  \n",
            " 1   Month         object \n",
            " 2   Day           int64  \n",
            " 3   statefips     int64  \n",
            " 4   countyfips    int64  \n",
            " 5   O3_max_pred   float64\n",
            " 6   O3_med_pred   float64\n",
            " 7   O3_mean_pred  float64\n",
            " 8   O3_pop_pred   float64\n",
            "dtypes: float64(4), int64(4), object(1)\n",
            "memory usage: 1.2+ GB\n"
          ]
        }
      ]
    },
    {
      "cell_type": "code",
      "source": [
        "ozone_df.isnull().values.any()"
      ],
      "metadata": {
        "colab": {
          "base_uri": "https://localhost:8080/"
        },
        "id": "mLF3WwuTWene",
        "outputId": "ad8772cb-0a1f-4288-9177-ef81fec52c88"
      },
      "execution_count": 15,
      "outputs": [
        {
          "output_type": "execute_result",
          "data": {
            "text/plain": [
              "False"
            ]
          },
          "metadata": {},
          "execution_count": 15
        }
      ]
    },
    {
      "cell_type": "code",
      "source": [
        "df_cancer.isnull().sum().sum()"
      ],
      "metadata": {
        "colab": {
          "base_uri": "https://localhost:8080/"
        },
        "id": "C4-r2sZPWeiA",
        "outputId": "3363c44e-5865-49ec-9fde-c522abd99091"
      },
      "execution_count": 16,
      "outputs": [
        {
          "output_type": "execute_result",
          "data": {
            "text/plain": [
              "0"
            ]
          },
          "metadata": {},
          "execution_count": 16
        }
      ]
    },
    {
      "cell_type": "code",
      "source": [
        "ozone_df.describe().T"
      ],
      "metadata": {
        "colab": {
          "base_uri": "https://localhost:8080/",
          "height": 364
        },
        "id": "DDC6LhwZZCT5",
        "outputId": "d45c4d01-d569-4266-a50c-a233fdfe1f99"
      },
      "execution_count": 17,
      "outputs": [
        {
          "output_type": "execute_result",
          "data": {
            "text/plain": [
              "                   count         mean         std          min          25%  \\\n",
              "Year          18168996.0  2008.501027    4.609846  2001.000000  2004.750000   \n",
              "Day           18168996.0    15.729637    8.800092     1.000000     8.000000   \n",
              "statefips     18168996.0    30.575105   14.964198     1.000000    19.000000   \n",
              "countyfips    18168996.0   103.437440  108.064243     1.000000    35.000000   \n",
              "O3_max_pred   18168996.0    41.212981   12.202074     0.940476    32.424334   \n",
              "O3_med_pred   18168996.0    40.080713   12.034281     0.524195    31.446659   \n",
              "O3_mean_pred  18168996.0    40.098398   12.006874     0.755492    31.474275   \n",
              "O3_pop_pred   18168996.0    40.094743   12.011415     0.676899    31.466675   \n",
              "\n",
              "                     50%          75%          max  \n",
              "Year          2008.50000  2012.250000  2016.000000  \n",
              "Day             16.00000    23.000000    31.000000  \n",
              "statefips       29.00000    46.000000    56.000000  \n",
              "countyfips      79.00000   133.000000   840.000000  \n",
              "O3_max_pred     40.03070    48.877900   147.443510  \n",
              "O3_med_pred     39.04875    47.827332   137.066281  \n",
              "O3_mean_pred    39.06665    47.834200   136.500010  \n",
              "O3_pop_pred     39.06188    47.832787   135.343729  "
            ],
            "text/html": [
              "\n",
              "  <div id=\"df-40a68a37-0fee-417e-8d68-7a366a605613\">\n",
              "    <div class=\"colab-df-container\">\n",
              "      <div>\n",
              "<style scoped>\n",
              "    .dataframe tbody tr th:only-of-type {\n",
              "        vertical-align: middle;\n",
              "    }\n",
              "\n",
              "    .dataframe tbody tr th {\n",
              "        vertical-align: top;\n",
              "    }\n",
              "\n",
              "    .dataframe thead th {\n",
              "        text-align: right;\n",
              "    }\n",
              "</style>\n",
              "<table border=\"1\" class=\"dataframe\">\n",
              "  <thead>\n",
              "    <tr style=\"text-align: right;\">\n",
              "      <th></th>\n",
              "      <th>count</th>\n",
              "      <th>mean</th>\n",
              "      <th>std</th>\n",
              "      <th>min</th>\n",
              "      <th>25%</th>\n",
              "      <th>50%</th>\n",
              "      <th>75%</th>\n",
              "      <th>max</th>\n",
              "    </tr>\n",
              "  </thead>\n",
              "  <tbody>\n",
              "    <tr>\n",
              "      <th>Year</th>\n",
              "      <td>18168996.0</td>\n",
              "      <td>2008.501027</td>\n",
              "      <td>4.609846</td>\n",
              "      <td>2001.000000</td>\n",
              "      <td>2004.750000</td>\n",
              "      <td>2008.50000</td>\n",
              "      <td>2012.250000</td>\n",
              "      <td>2016.000000</td>\n",
              "    </tr>\n",
              "    <tr>\n",
              "      <th>Day</th>\n",
              "      <td>18168996.0</td>\n",
              "      <td>15.729637</td>\n",
              "      <td>8.800092</td>\n",
              "      <td>1.000000</td>\n",
              "      <td>8.000000</td>\n",
              "      <td>16.00000</td>\n",
              "      <td>23.000000</td>\n",
              "      <td>31.000000</td>\n",
              "    </tr>\n",
              "    <tr>\n",
              "      <th>statefips</th>\n",
              "      <td>18168996.0</td>\n",
              "      <td>30.575105</td>\n",
              "      <td>14.964198</td>\n",
              "      <td>1.000000</td>\n",
              "      <td>19.000000</td>\n",
              "      <td>29.00000</td>\n",
              "      <td>46.000000</td>\n",
              "      <td>56.000000</td>\n",
              "    </tr>\n",
              "    <tr>\n",
              "      <th>countyfips</th>\n",
              "      <td>18168996.0</td>\n",
              "      <td>103.437440</td>\n",
              "      <td>108.064243</td>\n",
              "      <td>1.000000</td>\n",
              "      <td>35.000000</td>\n",
              "      <td>79.00000</td>\n",
              "      <td>133.000000</td>\n",
              "      <td>840.000000</td>\n",
              "    </tr>\n",
              "    <tr>\n",
              "      <th>O3_max_pred</th>\n",
              "      <td>18168996.0</td>\n",
              "      <td>41.212981</td>\n",
              "      <td>12.202074</td>\n",
              "      <td>0.940476</td>\n",
              "      <td>32.424334</td>\n",
              "      <td>40.03070</td>\n",
              "      <td>48.877900</td>\n",
              "      <td>147.443510</td>\n",
              "    </tr>\n",
              "    <tr>\n",
              "      <th>O3_med_pred</th>\n",
              "      <td>18168996.0</td>\n",
              "      <td>40.080713</td>\n",
              "      <td>12.034281</td>\n",
              "      <td>0.524195</td>\n",
              "      <td>31.446659</td>\n",
              "      <td>39.04875</td>\n",
              "      <td>47.827332</td>\n",
              "      <td>137.066281</td>\n",
              "    </tr>\n",
              "    <tr>\n",
              "      <th>O3_mean_pred</th>\n",
              "      <td>18168996.0</td>\n",
              "      <td>40.098398</td>\n",
              "      <td>12.006874</td>\n",
              "      <td>0.755492</td>\n",
              "      <td>31.474275</td>\n",
              "      <td>39.06665</td>\n",
              "      <td>47.834200</td>\n",
              "      <td>136.500010</td>\n",
              "    </tr>\n",
              "    <tr>\n",
              "      <th>O3_pop_pred</th>\n",
              "      <td>18168996.0</td>\n",
              "      <td>40.094743</td>\n",
              "      <td>12.011415</td>\n",
              "      <td>0.676899</td>\n",
              "      <td>31.466675</td>\n",
              "      <td>39.06188</td>\n",
              "      <td>47.832787</td>\n",
              "      <td>135.343729</td>\n",
              "    </tr>\n",
              "  </tbody>\n",
              "</table>\n",
              "</div>\n",
              "      <button class=\"colab-df-convert\" onclick=\"convertToInteractive('df-40a68a37-0fee-417e-8d68-7a366a605613')\"\n",
              "              title=\"Convert this dataframe to an interactive table.\"\n",
              "              style=\"display:none;\">\n",
              "        \n",
              "  <svg xmlns=\"http://www.w3.org/2000/svg\" height=\"24px\"viewBox=\"0 0 24 24\"\n",
              "       width=\"24px\">\n",
              "    <path d=\"M0 0h24v24H0V0z\" fill=\"none\"/>\n",
              "    <path d=\"M18.56 5.44l.94 2.06.94-2.06 2.06-.94-2.06-.94-.94-2.06-.94 2.06-2.06.94zm-11 1L8.5 8.5l.94-2.06 2.06-.94-2.06-.94L8.5 2.5l-.94 2.06-2.06.94zm10 10l.94 2.06.94-2.06 2.06-.94-2.06-.94-.94-2.06-.94 2.06-2.06.94z\"/><path d=\"M17.41 7.96l-1.37-1.37c-.4-.4-.92-.59-1.43-.59-.52 0-1.04.2-1.43.59L10.3 9.45l-7.72 7.72c-.78.78-.78 2.05 0 2.83L4 21.41c.39.39.9.59 1.41.59.51 0 1.02-.2 1.41-.59l7.78-7.78 2.81-2.81c.8-.78.8-2.07 0-2.86zM5.41 20L4 18.59l7.72-7.72 1.47 1.35L5.41 20z\"/>\n",
              "  </svg>\n",
              "      </button>\n",
              "      \n",
              "  <style>\n",
              "    .colab-df-container {\n",
              "      display:flex;\n",
              "      flex-wrap:wrap;\n",
              "      gap: 12px;\n",
              "    }\n",
              "\n",
              "    .colab-df-convert {\n",
              "      background-color: #E8F0FE;\n",
              "      border: none;\n",
              "      border-radius: 50%;\n",
              "      cursor: pointer;\n",
              "      display: none;\n",
              "      fill: #1967D2;\n",
              "      height: 32px;\n",
              "      padding: 0 0 0 0;\n",
              "      width: 32px;\n",
              "    }\n",
              "\n",
              "    .colab-df-convert:hover {\n",
              "      background-color: #E2EBFA;\n",
              "      box-shadow: 0px 1px 2px rgba(60, 64, 67, 0.3), 0px 1px 3px 1px rgba(60, 64, 67, 0.15);\n",
              "      fill: #174EA6;\n",
              "    }\n",
              "\n",
              "    [theme=dark] .colab-df-convert {\n",
              "      background-color: #3B4455;\n",
              "      fill: #D2E3FC;\n",
              "    }\n",
              "\n",
              "    [theme=dark] .colab-df-convert:hover {\n",
              "      background-color: #434B5C;\n",
              "      box-shadow: 0px 1px 3px 1px rgba(0, 0, 0, 0.15);\n",
              "      filter: drop-shadow(0px 1px 2px rgba(0, 0, 0, 0.3));\n",
              "      fill: #FFFFFF;\n",
              "    }\n",
              "  </style>\n",
              "\n",
              "      <script>\n",
              "        const buttonEl =\n",
              "          document.querySelector('#df-40a68a37-0fee-417e-8d68-7a366a605613 button.colab-df-convert');\n",
              "        buttonEl.style.display =\n",
              "          google.colab.kernel.accessAllowed ? 'block' : 'none';\n",
              "\n",
              "        async function convertToInteractive(key) {\n",
              "          const element = document.querySelector('#df-40a68a37-0fee-417e-8d68-7a366a605613');\n",
              "          const dataTable =\n",
              "            await google.colab.kernel.invokeFunction('convertToInteractive',\n",
              "                                                     [key], {});\n",
              "          if (!dataTable) return;\n",
              "\n",
              "          const docLinkHtml = 'Like what you see? Visit the ' +\n",
              "            '<a target=\"_blank\" href=https://colab.research.google.com/notebooks/data_table.ipynb>data table notebook</a>'\n",
              "            + ' to learn more about interactive tables.';\n",
              "          element.innerHTML = '';\n",
              "          dataTable['output_type'] = 'display_data';\n",
              "          await google.colab.output.renderOutput(dataTable, element);\n",
              "          const docLink = document.createElement('div');\n",
              "          docLink.innerHTML = docLinkHtml;\n",
              "          element.appendChild(docLink);\n",
              "        }\n",
              "      </script>\n",
              "    </div>\n",
              "  </div>\n",
              "  "
            ]
          },
          "metadata": {},
          "execution_count": 17
        }
      ]
    },
    {
      "cell_type": "code",
      "source": [
        "df_cancer.iloc[68]"
      ],
      "metadata": {
        "colab": {
          "base_uri": "https://localhost:8080/"
        },
        "id": "VLFb-JRisS_P",
        "outputId": "30c3e0bc-ea8e-4b8e-ae22-af6ca7477cf1"
      },
      "execution_count": 18,
      "outputs": [
        {
          "output_type": "execute_result",
          "data": {
            "text/plain": [
              "index                                                                                   68\n",
              "County                                                Aleutians East Borough, Alaska(6,10)\n",
              " FIPS                                                                                 2013\n",
              "Age-Adjusted Incidence Rate(Ê) - cases per 100,000                                      * \n",
              "Lower 95% Confidence Interval                                                            *\n",
              "Upper 95% Confidence Interval                                                            *\n",
              "Average Annual Count                                                            3 or fewer\n",
              "Recent Trend                                                                             *\n",
              "Recent 5-Year Trend (ˆ) in Incidence Rates                                               *\n",
              "Lower 95% Confidence Interval.1                                                          *\n",
              "Upper 95% Confidence Interval.1                                                          *\n",
              "Name: 68, dtype: object"
            ]
          },
          "metadata": {},
          "execution_count": 18
        }
      ]
    },
    {
      "cell_type": "code",
      "source": [
        "df_cancer.describe()"
      ],
      "metadata": {
        "colab": {
          "base_uri": "https://localhost:8080/",
          "height": 300
        },
        "id": "cfqMIPQ0ZCF6",
        "outputId": "0670a060-e03c-416d-d9ae-7dc73527a118"
      },
      "execution_count": 19,
      "outputs": [
        {
          "output_type": "execute_result",
          "data": {
            "text/plain": [
              "             index          FIPS\n",
              "count  3141.000000   3141.000000\n",
              "mean   1570.000000  30392.281757\n",
              "std     906.872924  15158.200839\n",
              "min       0.000000      0.000000\n",
              "25%     785.000000  18179.000000\n",
              "50%    1570.000000  29177.000000\n",
              "75%    2355.000000  45081.000000\n",
              "max    3140.000000  56045.000000"
            ],
            "text/html": [
              "\n",
              "  <div id=\"df-b7e9a9fa-bcbe-44c5-b93d-a23073d89d77\">\n",
              "    <div class=\"colab-df-container\">\n",
              "      <div>\n",
              "<style scoped>\n",
              "    .dataframe tbody tr th:only-of-type {\n",
              "        vertical-align: middle;\n",
              "    }\n",
              "\n",
              "    .dataframe tbody tr th {\n",
              "        vertical-align: top;\n",
              "    }\n",
              "\n",
              "    .dataframe thead th {\n",
              "        text-align: right;\n",
              "    }\n",
              "</style>\n",
              "<table border=\"1\" class=\"dataframe\">\n",
              "  <thead>\n",
              "    <tr style=\"text-align: right;\">\n",
              "      <th></th>\n",
              "      <th>index</th>\n",
              "      <th>FIPS</th>\n",
              "    </tr>\n",
              "  </thead>\n",
              "  <tbody>\n",
              "    <tr>\n",
              "      <th>count</th>\n",
              "      <td>3141.000000</td>\n",
              "      <td>3141.000000</td>\n",
              "    </tr>\n",
              "    <tr>\n",
              "      <th>mean</th>\n",
              "      <td>1570.000000</td>\n",
              "      <td>30392.281757</td>\n",
              "    </tr>\n",
              "    <tr>\n",
              "      <th>std</th>\n",
              "      <td>906.872924</td>\n",
              "      <td>15158.200839</td>\n",
              "    </tr>\n",
              "    <tr>\n",
              "      <th>min</th>\n",
              "      <td>0.000000</td>\n",
              "      <td>0.000000</td>\n",
              "    </tr>\n",
              "    <tr>\n",
              "      <th>25%</th>\n",
              "      <td>785.000000</td>\n",
              "      <td>18179.000000</td>\n",
              "    </tr>\n",
              "    <tr>\n",
              "      <th>50%</th>\n",
              "      <td>1570.000000</td>\n",
              "      <td>29177.000000</td>\n",
              "    </tr>\n",
              "    <tr>\n",
              "      <th>75%</th>\n",
              "      <td>2355.000000</td>\n",
              "      <td>45081.000000</td>\n",
              "    </tr>\n",
              "    <tr>\n",
              "      <th>max</th>\n",
              "      <td>3140.000000</td>\n",
              "      <td>56045.000000</td>\n",
              "    </tr>\n",
              "  </tbody>\n",
              "</table>\n",
              "</div>\n",
              "      <button class=\"colab-df-convert\" onclick=\"convertToInteractive('df-b7e9a9fa-bcbe-44c5-b93d-a23073d89d77')\"\n",
              "              title=\"Convert this dataframe to an interactive table.\"\n",
              "              style=\"display:none;\">\n",
              "        \n",
              "  <svg xmlns=\"http://www.w3.org/2000/svg\" height=\"24px\"viewBox=\"0 0 24 24\"\n",
              "       width=\"24px\">\n",
              "    <path d=\"M0 0h24v24H0V0z\" fill=\"none\"/>\n",
              "    <path d=\"M18.56 5.44l.94 2.06.94-2.06 2.06-.94-2.06-.94-.94-2.06-.94 2.06-2.06.94zm-11 1L8.5 8.5l.94-2.06 2.06-.94-2.06-.94L8.5 2.5l-.94 2.06-2.06.94zm10 10l.94 2.06.94-2.06 2.06-.94-2.06-.94-.94-2.06-.94 2.06-2.06.94z\"/><path d=\"M17.41 7.96l-1.37-1.37c-.4-.4-.92-.59-1.43-.59-.52 0-1.04.2-1.43.59L10.3 9.45l-7.72 7.72c-.78.78-.78 2.05 0 2.83L4 21.41c.39.39.9.59 1.41.59.51 0 1.02-.2 1.41-.59l7.78-7.78 2.81-2.81c.8-.78.8-2.07 0-2.86zM5.41 20L4 18.59l7.72-7.72 1.47 1.35L5.41 20z\"/>\n",
              "  </svg>\n",
              "      </button>\n",
              "      \n",
              "  <style>\n",
              "    .colab-df-container {\n",
              "      display:flex;\n",
              "      flex-wrap:wrap;\n",
              "      gap: 12px;\n",
              "    }\n",
              "\n",
              "    .colab-df-convert {\n",
              "      background-color: #E8F0FE;\n",
              "      border: none;\n",
              "      border-radius: 50%;\n",
              "      cursor: pointer;\n",
              "      display: none;\n",
              "      fill: #1967D2;\n",
              "      height: 32px;\n",
              "      padding: 0 0 0 0;\n",
              "      width: 32px;\n",
              "    }\n",
              "\n",
              "    .colab-df-convert:hover {\n",
              "      background-color: #E2EBFA;\n",
              "      box-shadow: 0px 1px 2px rgba(60, 64, 67, 0.3), 0px 1px 3px 1px rgba(60, 64, 67, 0.15);\n",
              "      fill: #174EA6;\n",
              "    }\n",
              "\n",
              "    [theme=dark] .colab-df-convert {\n",
              "      background-color: #3B4455;\n",
              "      fill: #D2E3FC;\n",
              "    }\n",
              "\n",
              "    [theme=dark] .colab-df-convert:hover {\n",
              "      background-color: #434B5C;\n",
              "      box-shadow: 0px 1px 3px 1px rgba(0, 0, 0, 0.15);\n",
              "      filter: drop-shadow(0px 1px 2px rgba(0, 0, 0, 0.3));\n",
              "      fill: #FFFFFF;\n",
              "    }\n",
              "  </style>\n",
              "\n",
              "      <script>\n",
              "        const buttonEl =\n",
              "          document.querySelector('#df-b7e9a9fa-bcbe-44c5-b93d-a23073d89d77 button.colab-df-convert');\n",
              "        buttonEl.style.display =\n",
              "          google.colab.kernel.accessAllowed ? 'block' : 'none';\n",
              "\n",
              "        async function convertToInteractive(key) {\n",
              "          const element = document.querySelector('#df-b7e9a9fa-bcbe-44c5-b93d-a23073d89d77');\n",
              "          const dataTable =\n",
              "            await google.colab.kernel.invokeFunction('convertToInteractive',\n",
              "                                                     [key], {});\n",
              "          if (!dataTable) return;\n",
              "\n",
              "          const docLinkHtml = 'Like what you see? Visit the ' +\n",
              "            '<a target=\"_blank\" href=https://colab.research.google.com/notebooks/data_table.ipynb>data table notebook</a>'\n",
              "            + ' to learn more about interactive tables.';\n",
              "          element.innerHTML = '';\n",
              "          dataTable['output_type'] = 'display_data';\n",
              "          await google.colab.output.renderOutput(dataTable, element);\n",
              "          const docLink = document.createElement('div');\n",
              "          docLink.innerHTML = docLinkHtml;\n",
              "          element.appendChild(docLink);\n",
              "        }\n",
              "      </script>\n",
              "    </div>\n",
              "  </div>\n",
              "  "
            ]
          },
          "metadata": {},
          "execution_count": 19
        }
      ]
    },
    {
      "cell_type": "code",
      "source": [
        "ozone_df.O3_max_pred.hist()"
      ],
      "metadata": {
        "colab": {
          "base_uri": "https://localhost:8080/",
          "height": 293
        },
        "id": "niIsGoN-ZCB8",
        "outputId": "33f55874-8a55-4411-f476-fc9786a31b1d"
      },
      "execution_count": 20,
      "outputs": [
        {
          "output_type": "execute_result",
          "data": {
            "text/plain": [
              "<matplotlib.axes._subplots.AxesSubplot at 0x7f6b9146c820>"
            ]
          },
          "metadata": {},
          "execution_count": 20
        },
        {
          "output_type": "display_data",
          "data": {
            "text/plain": [
              "<Figure size 432x288 with 1 Axes>"
            ],
            "image/png": "[encoded data removed]"
          },
          "metadata": {
            "needs_background": "light"
          }
        }
      ]
    },
    {
      "cell_type": "code",
      "source": [
        "ozone_df.boxplot(by = 'Year', column=['O3_mean_pred'], grid= False)"
      ],
      "metadata": {
        "colab": {
          "base_uri": "https://localhost:8080/",
          "height": 373
        },
        "id": "SqRsMJSqZB7w",
        "outputId": "09dba7b5-c3c0-48f3-e666-bc6d245c6107"
      },
      "execution_count": 21,
      "outputs": [
        {
          "output_type": "stream",
          "name": "stderr",
          "text": [
            "/usr/local/lib/python3.8/dist-packages/matplotlib/cbook/__init__.py:1376: VisibleDeprecationWarning: Creating an ndarray from ragged nested sequences (which is a list-or-tuple of lists-or-tuples-or ndarrays with different lengths or shapes) is deprecated. If you meant to do this, you must specify 'dtype=object' when creating the ndarray.\n",
            "  X = np.atleast_1d(X.T if isinstance(X, np.ndarray) else np.asarray(X))\n"
          ]
        },
        {
          "output_type": "execute_result",
          "data": {
            "text/plain": [
              "<matplotlib.axes._subplots.AxesSubplot at 0x7f6b913d3700>"
            ]
          },
          "metadata": {},
          "execution_count": 21
        },
        {
          "output_type": "display_data",
          "data": {
            "text/plain": [
              "<Figure size 432x288 with 1 Axes>"
            ],
            "image/png": "[encoded data removed]"
          },
          "metadata": {
            "needs_background": "light"
          }
        }
      ]
    },
    {
      "cell_type": "code",
      "source": [
        "# Remove years after 2014\n",
        "ozone_df= ozone_df[ozone_df['Year']<=2014]\n"
      ],
      "metadata": {
        "id": "8PNpL7I3q5uj"
      },
      "execution_count": 22,
      "outputs": []
    },
    {
      "cell_type": "code",
      "source": [
        "ozone_df=ozone_df.astype({'statefips':'string', 'countyfips':'string'})\n"
      ],
      "metadata": {
        "id": "EJhKX57qxlH5"
      },
      "execution_count": 23,
      "outputs": []
    },
    {
      "cell_type": "code",
      "source": [
        "ozone_df.dtypes"
      ],
      "metadata": {
        "colab": {
          "base_uri": "https://localhost:8080/"
        },
        "id": "6AnQWYl6yw9n",
        "outputId": "62e898cf-0c1a-48da-8434-f7b689701c04"
      },
      "execution_count": 24,
      "outputs": [
        {
          "output_type": "execute_result",
          "data": {
            "text/plain": [
              "Year              int64\n",
              "Month            object\n",
              "Day               int64\n",
              "statefips        string\n",
              "countyfips       string\n",
              "O3_max_pred     float64\n",
              "O3_med_pred     float64\n",
              "O3_mean_pred    float64\n",
              "O3_pop_pred     float64\n",
              "dtype: object"
            ]
          },
          "metadata": {},
          "execution_count": 24
        }
      ]
    },
    {
      "cell_type": "code",
      "source": [
        "ozone_df ['FIPS']= ozone_df['statefips'].astype(str) + ozone_df['countyfips']\n",
        "ozone_df.head()"
      ],
      "metadata": {
        "colab": {
          "base_uri": "https://localhost:8080/",
          "height": 270
        },
        "id": "dB14IFviy4fl",
        "outputId": "2bcf1d77-af37-418b-f4c9-778f385b6816"
      },
      "execution_count": 25,
      "outputs": [
        {
          "output_type": "execute_result",
          "data": {
            "text/plain": [
              "   Year Month  Day statefips countyfips  O3_max_pred  O3_med_pred  \\\n",
              "0  2001   JAN    1         1          1    31.939058    31.691988   \n",
              "1  2001   JAN    1         1          3    33.646855    33.170271   \n",
              "2  2001   JAN    1         1          5    34.288917    34.068507   \n",
              "3  2001   JAN    1         1          7    30.349767    30.036093   \n",
              "4  2001   JAN    1         1          9    26.472655    25.776595   \n",
              "\n",
              "   O3_mean_pred  O3_pop_pred FIPS  \n",
              "0     31.680859    31.671226   11  \n",
              "1     32.994775    32.935070   13  \n",
              "2     34.077954    34.086631   15  \n",
              "3     29.931756    29.991733   17  \n",
              "4     25.857571    25.872472   19  "
            ],
            "text/html": [
              "\n",
              "  <div id=\"df-25f38cf0-8b15-42de-9f59-9b342d7d0213\">\n",
              "    <div class=\"colab-df-container\">\n",
              "      <div>\n",
              "<style scoped>\n",
              "    .dataframe tbody tr th:only-of-type {\n",
              "        vertical-align: middle;\n",
              "    }\n",
              "\n",
              "    .dataframe tbody tr th {\n",
              "        vertical-align: top;\n",
              "    }\n",
              "\n",
              "    .dataframe thead th {\n",
              "        text-align: right;\n",
              "    }\n",
              "</style>\n",
              "<table border=\"1\" class=\"dataframe\">\n",
              "  <thead>\n",
              "    <tr style=\"text-align: right;\">\n",
              "      <th></th>\n",
              "      <th>Year</th>\n",
              "      <th>Month</th>\n",
              "      <th>Day</th>\n",
              "      <th>statefips</th>\n",
              "      <th>countyfips</th>\n",
              "      <th>O3_max_pred</th>\n",
              "      <th>O3_med_pred</th>\n",
              "      <th>O3_mean_pred</th>\n",
              "      <th>O3_pop_pred</th>\n",
              "      <th>FIPS</th>\n",
              "    </tr>\n",
              "  </thead>\n",
              "  <tbody>\n",
              "    <tr>\n",
              "      <th>0</th>\n",
              "      <td>2001</td>\n",
              "      <td>JAN</td>\n",
              "      <td>1</td>\n",
              "      <td>1</td>\n",
              "      <td>1</td>\n",
              "      <td>31.939058</td>\n",
              "      <td>31.691988</td>\n",
              "      <td>31.680859</td>\n",
              "      <td>31.671226</td>\n",
              "      <td>11</td>\n",
              "    </tr>\n",
              "    <tr>\n",
              "      <th>1</th>\n",
              "      <td>2001</td>\n",
              "      <td>JAN</td>\n",
              "      <td>1</td>\n",
              "      <td>1</td>\n",
              "      <td>3</td>\n",
              "      <td>33.646855</td>\n",
              "      <td>33.170271</td>\n",
              "      <td>32.994775</td>\n",
              "      <td>32.935070</td>\n",
              "      <td>13</td>\n",
              "    </tr>\n",
              "    <tr>\n",
              "      <th>2</th>\n",
              "      <td>2001</td>\n",
              "      <td>JAN</td>\n",
              "      <td>1</td>\n",
              "      <td>1</td>\n",
              "      <td>5</td>\n",
              "      <td>34.288917</td>\n",
              "      <td>34.068507</td>\n",
              "      <td>34.077954</td>\n",
              "      <td>34.086631</td>\n",
              "      <td>15</td>\n",
              "    </tr>\n",
              "    <tr>\n",
              "      <th>3</th>\n",
              "      <td>2001</td>\n",
              "      <td>JAN</td>\n",
              "      <td>1</td>\n",
              "      <td>1</td>\n",
              "      <td>7</td>\n",
              "      <td>30.349767</td>\n",
              "      <td>30.036093</td>\n",
              "      <td>29.931756</td>\n",
              "      <td>29.991733</td>\n",
              "      <td>17</td>\n",
              "    </tr>\n",
              "    <tr>\n",
              "      <th>4</th>\n",
              "      <td>2001</td>\n",
              "      <td>JAN</td>\n",
              "      <td>1</td>\n",
              "      <td>1</td>\n",
              "      <td>9</td>\n",
              "      <td>26.472655</td>\n",
              "      <td>25.776595</td>\n",
              "      <td>25.857571</td>\n",
              "      <td>25.872472</td>\n",
              "      <td>19</td>\n",
              "    </tr>\n",
              "  </tbody>\n",
              "</table>\n",
              "</div>\n",
              "      <button class=\"colab-df-convert\" onclick=\"convertToInteractive('df-25f38cf0-8b15-42de-9f59-9b342d7d0213')\"\n",
              "              title=\"Convert this dataframe to an interactive table.\"\n",
              "              style=\"display:none;\">\n",
              "        \n",
              "  <svg xmlns=\"http://www.w3.org/2000/svg\" height=\"24px\"viewBox=\"0 0 24 24\"\n",
              "       width=\"24px\">\n",
              "    <path d=\"M0 0h24v24H0V0z\" fill=\"none\"/>\n",
              "    <path d=\"M18.56 5.44l.94 2.06.94-2.06 2.06-.94-2.06-.94-.94-2.06-.94 2.06-2.06.94zm-11 1L8.5 8.5l.94-2.06 2.06-.94-2.06-.94L8.5 2.5l-.94 2.06-2.06.94zm10 10l.94 2.06.94-2.06 2.06-.94-2.06-.94-.94-2.06-.94 2.06-2.06.94z\"/><path d=\"M17.41 7.96l-1.37-1.37c-.4-.4-.92-.59-1.43-.59-.52 0-1.04.2-1.43.59L10.3 9.45l-7.72 7.72c-.78.78-.78 2.05 0 2.83L4 21.41c.39.39.9.59 1.41.59.51 0 1.02-.2 1.41-.59l7.78-7.78 2.81-2.81c.8-.78.8-2.07 0-2.86zM5.41 20L4 18.59l7.72-7.72 1.47 1.35L5.41 20z\"/>\n",
              "  </svg>\n",
              "      </button>\n",
              "      \n",
              "  <style>\n",
              "    .colab-df-container {\n",
              "      display:flex;\n",
              "      flex-wrap:wrap;\n",
              "      gap: 12px;\n",
              "    }\n",
              "\n",
              "    .colab-df-convert {\n",
              "      background-color: #E8F0FE;\n",
              "      border: none;\n",
              "      border-radius: 50%;\n",
              "      cursor: pointer;\n",
              "      display: none;\n",
              "      fill: #1967D2;\n",
              "      height: 32px;\n",
              "      padding: 0 0 0 0;\n",
              "      width: 32px;\n",
              "    }\n",
              "\n",
              "    .colab-df-convert:hover {\n",
              "      background-color: #E2EBFA;\n",
              "      box-shadow: 0px 1px 2px rgba(60, 64, 67, 0.3), 0px 1px 3px 1px rgba(60, 64, 67, 0.15);\n",
              "      fill: #174EA6;\n",
              "    }\n",
              "\n",
              "    [theme=dark] .colab-df-convert {\n",
              "      background-color: #3B4455;\n",
              "      fill: #D2E3FC;\n",
              "    }\n",
              "\n",
              "    [theme=dark] .colab-df-convert:hover {\n",
              "      background-color: #434B5C;\n",
              "      box-shadow: 0px 1px 3px 1px rgba(0, 0, 0, 0.15);\n",
              "      filter: drop-shadow(0px 1px 2px rgba(0, 0, 0, 0.3));\n",
              "      fill: #FFFFFF;\n",
              "    }\n",
              "  </style>\n",
              "\n",
              "      <script>\n",
              "        const buttonEl =\n",
              "          document.querySelector('#df-25f38cf0-8b15-42de-9f59-9b342d7d0213 button.colab-df-convert');\n",
              "        buttonEl.style.display =\n",
              "          google.colab.kernel.accessAllowed ? 'block' : 'none';\n",
              "\n",
              "        async function convertToInteractive(key) {\n",
              "          const element = document.querySelector('#df-25f38cf0-8b15-42de-9f59-9b342d7d0213');\n",
              "          const dataTable =\n",
              "            await google.colab.kernel.invokeFunction('convertToInteractive',\n",
              "                                                     [key], {});\n",
              "          if (!dataTable) return;\n",
              "\n",
              "          const docLinkHtml = 'Like what you see? Visit the ' +\n",
              "            '<a target=\"_blank\" href=https://colab.research.google.com/notebooks/data_table.ipynb>data table notebook</a>'\n",
              "            + ' to learn more about interactive tables.';\n",
              "          element.innerHTML = '';\n",
              "          dataTable['output_type'] = 'display_data';\n",
              "          await google.colab.output.renderOutput(dataTable, element);\n",
              "          const docLink = document.createElement('div');\n",
              "          docLink.innerHTML = docLinkHtml;\n",
              "          element.appendChild(docLink);\n",
              "        }\n",
              "      </script>\n",
              "    </div>\n",
              "  </div>\n",
              "  "
            ]
          },
          "metadata": {},
          "execution_count": 25
        }
      ]
    },
    {
      "cell_type": "code",
      "source": [
        "ozone_df=ozone_df.astype({'FIPS':'int'})"
      ],
      "metadata": {
        "id": "aOIH-b-06U7S"
      },
      "execution_count": 26,
      "outputs": []
    },
    {
      "cell_type": "code",
      "source": [
        "#aggreagate ozone data by county\n",
        "ozone_agg_df = ozone_df.groupby('FIPS').agg({'O3_max_pred':'mean','O3_med_pred':'mean','O3_mean_pred':'mean'})\n",
        "ozone_agg_df.reset_index(inplace=True)\n",
        "ozone_agg_df"
      ],
      "metadata": {
        "colab": {
          "base_uri": "https://localhost:8080/",
          "height": 424
        },
        "id": "iXjWrZh4yHTr",
        "outputId": "d3d5a984-6f38-4efa-8d36-403561389359"
      },
      "execution_count": 27,
      "outputs": [
        {
          "output_type": "execute_result",
          "data": {
            "text/plain": [
              "       FIPS  O3_max_pred  O3_med_pred  O3_mean_pred\n",
              "0        11    41.001571    39.948742     39.921898\n",
              "1        13    45.070022    41.241604     41.341833\n",
              "2        15    41.139416    40.185889     40.162437\n",
              "3        17    40.505549    39.399455     39.389288\n",
              "4        19    42.714107    41.096201     41.085945\n",
              "...     ...          ...          ...           ...\n",
              "3020  55133    38.945330    36.419724     36.515294\n",
              "3021  55135    39.086669    38.129168     38.118226\n",
              "3022  55137    39.383301    38.640274     38.622163\n",
              "3023  55139    39.368464    38.237115     38.154423\n",
              "3024  55141    38.930486    37.977529     37.960232\n",
              "\n",
              "[3025 rows x 4 columns]"
            ],
            "text/html": [
              "\n",
              "  <div id=\"df-f37db5e2-da86-4ef0-aa59-24392f58ad4b\">\n",
              "    <div class=\"colab-df-container\">\n",
              "      <div>\n",
              "<style scoped>\n",
              "    .dataframe tbody tr th:only-of-type {\n",
              "        vertical-align: middle;\n",
              "    }\n",
              "\n",
              "    .dataframe tbody tr th {\n",
              "        vertical-align: top;\n",
              "    }\n",
              "\n",
              "    .dataframe thead th {\n",
              "        text-align: right;\n",
              "    }\n",
              "</style>\n",
              "<table border=\"1\" class=\"dataframe\">\n",
              "  <thead>\n",
              "    <tr style=\"text-align: right;\">\n",
              "      <th></th>\n",
              "      <th>FIPS</th>\n",
              "      <th>O3_max_pred</th>\n",
              "      <th>O3_med_pred</th>\n",
              "      <th>O3_mean_pred</th>\n",
              "    </tr>\n",
              "  </thead>\n",
              "  <tbody>\n",
              "    <tr>\n",
              "      <th>0</th>\n",
              "      <td>11</td>\n",
              "      <td>41.001571</td>\n",
              "      <td>39.948742</td>\n",
              "      <td>39.921898</td>\n",
              "    </tr>\n",
              "    <tr>\n",
              "      <th>1</th>\n",
              "      <td>13</td>\n",
              "      <td>45.070022</td>\n",
              "      <td>41.241604</td>\n",
              "      <td>41.341833</td>\n",
              "    </tr>\n",
              "    <tr>\n",
              "      <th>2</th>\n",
              "      <td>15</td>\n",
              "      <td>41.139416</td>\n",
              "      <td>40.185889</td>\n",
              "      <td>40.162437</td>\n",
              "    </tr>\n",
              "    <tr>\n",
              "      <th>3</th>\n",
              "      <td>17</td>\n",
              "      <td>40.505549</td>\n",
              "      <td>39.399455</td>\n",
              "      <td>39.389288</td>\n",
              "    </tr>\n",
              "    <tr>\n",
              "      <th>4</th>\n",
              "      <td>19</td>\n",
              "      <td>42.714107</td>\n",
              "      <td>41.096201</td>\n",
              "      <td>41.085945</td>\n",
              "    </tr>\n",
              "    <tr>\n",
              "      <th>...</th>\n",
              "      <td>...</td>\n",
              "      <td>...</td>\n",
              "      <td>...</td>\n",
              "      <td>...</td>\n",
              "    </tr>\n",
              "    <tr>\n",
              "      <th>3020</th>\n",
              "      <td>55133</td>\n",
              "      <td>38.945330</td>\n",
              "      <td>36.419724</td>\n",
              "      <td>36.515294</td>\n",
              "    </tr>\n",
              "    <tr>\n",
              "      <th>3021</th>\n",
              "      <td>55135</td>\n",
              "      <td>39.086669</td>\n",
              "      <td>38.129168</td>\n",
              "      <td>38.118226</td>\n",
              "    </tr>\n",
              "    <tr>\n",
              "      <th>3022</th>\n",
              "      <td>55137</td>\n",
              "      <td>39.383301</td>\n",
              "      <td>38.640274</td>\n",
              "      <td>38.622163</td>\n",
              "    </tr>\n",
              "    <tr>\n",
              "      <th>3023</th>\n",
              "      <td>55139</td>\n",
              "      <td>39.368464</td>\n",
              "      <td>38.237115</td>\n",
              "      <td>38.154423</td>\n",
              "    </tr>\n",
              "    <tr>\n",
              "      <th>3024</th>\n",
              "      <td>55141</td>\n",
              "      <td>38.930486</td>\n",
              "      <td>37.977529</td>\n",
              "      <td>37.960232</td>\n",
              "    </tr>\n",
              "  </tbody>\n",
              "</table>\n",
              "<p>3025 rows × 4 columns</p>\n",
              "</div>\n",
              "      <button class=\"colab-df-convert\" onclick=\"convertToInteractive('df-f37db5e2-da86-4ef0-aa59-24392f58ad4b')\"\n",
              "              title=\"Convert this dataframe to an interactive table.\"\n",
              "              style=\"display:none;\">\n",
              "        \n",
              "  <svg xmlns=\"http://www.w3.org/2000/svg\" height=\"24px\"viewBox=\"0 0 24 24\"\n",
              "       width=\"24px\">\n",
              "    <path d=\"M0 0h24v24H0V0z\" fill=\"none\"/>\n",
              "    <path d=\"M18.56 5.44l.94 2.06.94-2.06 2.06-.94-2.06-.94-.94-2.06-.94 2.06-2.06.94zm-11 1L8.5 8.5l.94-2.06 2.06-.94-2.06-.94L8.5 2.5l-.94 2.06-2.06.94zm10 10l.94 2.06.94-2.06 2.06-.94-2.06-.94-.94-2.06-.94 2.06-2.06.94z\"/><path d=\"M17.41 7.96l-1.37-1.37c-.4-.4-.92-.59-1.43-.59-.52 0-1.04.2-1.43.59L10.3 9.45l-7.72 7.72c-.78.78-.78 2.05 0 2.83L4 21.41c.39.39.9.59 1.41.59.51 0 1.02-.2 1.41-.59l7.78-7.78 2.81-2.81c.8-.78.8-2.07 0-2.86zM5.41 20L4 18.59l7.72-7.72 1.47 1.35L5.41 20z\"/>\n",
              "  </svg>\n",
              "      </button>\n",
              "      \n",
              "  <style>\n",
              "    .colab-df-container {\n",
              "      display:flex;\n",
              "      flex-wrap:wrap;\n",
              "      gap: 12px;\n",
              "    }\n",
              "\n",
              "    .colab-df-convert {\n",
              "      background-color: #E8F0FE;\n",
              "      border: none;\n",
              "      border-radius: 50%;\n",
              "      cursor: pointer;\n",
              "      display: none;\n",
              "      fill: #1967D2;\n",
              "      height: 32px;\n",
              "      padding: 0 0 0 0;\n",
              "      width: 32px;\n",
              "    }\n",
              "\n",
              "    .colab-df-convert:hover {\n",
              "      background-color: #E2EBFA;\n",
              "      box-shadow: 0px 1px 2px rgba(60, 64, 67, 0.3), 0px 1px 3px 1px rgba(60, 64, 67, 0.15);\n",
              "      fill: #174EA6;\n",
              "    }\n",
              "\n",
              "    [theme=dark] .colab-df-convert {\n",
              "      background-color: #3B4455;\n",
              "      fill: #D2E3FC;\n",
              "    }\n",
              "\n",
              "    [theme=dark] .colab-df-convert:hover {\n",
              "      background-color: #434B5C;\n",
              "      box-shadow: 0px 1px 3px 1px rgba(0, 0, 0, 0.15);\n",
              "      filter: drop-shadow(0px 1px 2px rgba(0, 0, 0, 0.3));\n",
              "      fill: #FFFFFF;\n",
              "    }\n",
              "  </style>\n",
              "\n",
              "      <script>\n",
              "        const buttonEl =\n",
              "          document.querySelector('#df-f37db5e2-da86-4ef0-aa59-24392f58ad4b button.colab-df-convert');\n",
              "        buttonEl.style.display =\n",
              "          google.colab.kernel.accessAllowed ? 'block' : 'none';\n",
              "\n",
              "        async function convertToInteractive(key) {\n",
              "          const element = document.querySelector('#df-f37db5e2-da86-4ef0-aa59-24392f58ad4b');\n",
              "          const dataTable =\n",
              "            await google.colab.kernel.invokeFunction('convertToInteractive',\n",
              "                                                     [key], {});\n",
              "          if (!dataTable) return;\n",
              "\n",
              "          const docLinkHtml = 'Like what you see? Visit the ' +\n",
              "            '<a target=\"_blank\" href=https://colab.research.google.com/notebooks/data_table.ipynb>data table notebook</a>'\n",
              "            + ' to learn more about interactive tables.';\n",
              "          element.innerHTML = '';\n",
              "          dataTable['output_type'] = 'display_data';\n",
              "          await google.colab.output.renderOutput(dataTable, element);\n",
              "          const docLink = document.createElement('div');\n",
              "          docLink.innerHTML = docLinkHtml;\n",
              "          element.appendChild(docLink);\n",
              "        }\n",
              "      </script>\n",
              "    </div>\n",
              "  </div>\n",
              "  "
            ]
          },
          "metadata": {},
          "execution_count": 27
        }
      ]
    },
    {
      "cell_type": "code",
      "source": [
        "len(ozone_agg_df)"
      ],
      "metadata": {
        "colab": {
          "base_uri": "https://localhost:8080/"
        },
        "id": "5tYsUZLD020T",
        "outputId": "4b9aefd5-f23f-426d-d13c-c133e8fc0877"
      },
      "execution_count": 28,
      "outputs": [
        {
          "output_type": "execute_result",
          "data": {
            "text/plain": [
              "3025"
            ]
          },
          "metadata": {},
          "execution_count": 28
        }
      ]
    },
    {
      "cell_type": "code",
      "source": [
        "df = pd.merge(df_cancer, ozone_agg_df, how='inner', left_on=' FIPS', right_on='FIPS')\n",
        "df.head()"
      ],
      "metadata": {
        "id": "4kQUxEOvzhZn",
        "colab": {
          "base_uri": "https://localhost:8080/",
          "height": 496
        },
        "outputId": "198464a9-4473-4633-df8c-2ca3565f55d8"
      },
      "execution_count": 29,
      "outputs": [
        {
          "output_type": "execute_result",
          "data": {
            "text/plain": [
              "   index                            County   FIPS  \\\n",
              "0     51  Montgomery County, Alabama(6,10)   1101   \n",
              "1     52      Morgan County, Alabama(6,10)   1103   \n",
              "2     53       Perry County, Alabama(6,10)   1105   \n",
              "3     54     Pickens County, Alabama(6,10)   1107   \n",
              "4     55        Pike County, Alabama(6,10)   1109   \n",
              "\n",
              "  Age-Adjusted Incidence Rate(Ê) - cases per 100,000  \\\n",
              "0                                                 61   \n",
              "1                                               80.4   \n",
              "2                                               83.1   \n",
              "3                                               65.6   \n",
              "4                                               61.8   \n",
              "\n",
              "  Lower 95% Confidence Interval Upper 95% Confidence Interval  \\\n",
              "0                          56.5                          65.6   \n",
              "1                            74                          87.4   \n",
              "2                          62.5                         108.8   \n",
              "3                          52.8                            81   \n",
              "4                          50.5                          74.9   \n",
              "\n",
              "  Average Annual Count Recent Trend  \\\n",
              "0                  144      falling   \n",
              "1                  116       stable   \n",
              "2                   11       stable   \n",
              "3                   18       stable   \n",
              "4                   22       stable   \n",
              "\n",
              "  Recent 5-Year Trend (ˆ) in Incidence Rates Lower 95% Confidence Interval.1  \\\n",
              "0                                       -9.6                           -15.1   \n",
              "1                                       -3.2                             -12   \n",
              "2                                         -5                           -20.5   \n",
              "3                                      -13.2                           -26.2   \n",
              "4                                      -11.9                           -35.2   \n",
              "\n",
              "  Upper 95% Confidence Interval.1  FIPS  O3_max_pred  O3_med_pred  \\\n",
              "0                            -3.8  1101    41.874165    39.939759   \n",
              "1                             6.4  1103    43.308170    41.901690   \n",
              "2                            13.6  1105    39.805057    38.986625   \n",
              "3                               2  1107    39.979953    39.173487   \n",
              "4                            19.8  1109    40.690546    39.856677   \n",
              "\n",
              "   O3_mean_pred  \n",
              "0     39.977164  \n",
              "1     41.888594  \n",
              "2     39.022229  \n",
              "3     39.137133  \n",
              "4     39.866958  "
            ],
            "text/html": [
              "\n",
              "  <div id=\"df-e79c8532-7526-4ca8-838d-da5274417ef3\">\n",
              "    <div class=\"colab-df-container\">\n",
              "      <div>\n",
              "<style scoped>\n",
              "    .dataframe tbody tr th:only-of-type {\n",
              "        vertical-align: middle;\n",
              "    }\n",
              "\n",
              "    .dataframe tbody tr th {\n",
              "        vertical-align: top;\n",
              "    }\n",
              "\n",
              "    .dataframe thead th {\n",
              "        text-align: right;\n",
              "    }\n",
              "</style>\n",
              "<table border=\"1\" class=\"dataframe\">\n",
              "  <thead>\n",
              "    <tr style=\"text-align: right;\">\n",
              "      <th></th>\n",
              "      <th>index</th>\n",
              "      <th>County</th>\n",
              "      <th>FIPS</th>\n",
              "      <th>Age-Adjusted Incidence Rate(Ê) - cases per 100,000</th>\n",
              "      <th>Lower 95% Confidence Interval</th>\n",
              "      <th>Upper 95% Confidence Interval</th>\n",
              "      <th>Average Annual Count</th>\n",
              "      <th>Recent Trend</th>\n",
              "      <th>Recent 5-Year Trend (ˆ) in Incidence Rates</th>\n",
              "      <th>Lower 95% Confidence Interval.1</th>\n",
              "      <th>Upper 95% Confidence Interval.1</th>\n",
              "      <th>FIPS</th>\n",
              "      <th>O3_max_pred</th>\n",
              "      <th>O3_med_pred</th>\n",
              "      <th>O3_mean_pred</th>\n",
              "    </tr>\n",
              "  </thead>\n",
              "  <tbody>\n",
              "    <tr>\n",
              "      <th>0</th>\n",
              "      <td>51</td>\n",
              "      <td>Montgomery County, Alabama(6,10)</td>\n",
              "      <td>1101</td>\n",
              "      <td>61</td>\n",
              "      <td>56.5</td>\n",
              "      <td>65.6</td>\n",
              "      <td>144</td>\n",
              "      <td>falling</td>\n",
              "      <td>-9.6</td>\n",
              "      <td>-15.1</td>\n",
              "      <td>-3.8</td>\n",
              "      <td>1101</td>\n",
              "      <td>41.874165</td>\n",
              "      <td>39.939759</td>\n",
              "      <td>39.977164</td>\n",
              "    </tr>\n",
              "    <tr>\n",
              "      <th>1</th>\n",
              "      <td>52</td>\n",
              "      <td>Morgan County, Alabama(6,10)</td>\n",
              "      <td>1103</td>\n",
              "      <td>80.4</td>\n",
              "      <td>74</td>\n",
              "      <td>87.4</td>\n",
              "      <td>116</td>\n",
              "      <td>stable</td>\n",
              "      <td>-3.2</td>\n",
              "      <td>-12</td>\n",
              "      <td>6.4</td>\n",
              "      <td>1103</td>\n",
              "      <td>43.308170</td>\n",
              "      <td>41.901690</td>\n",
              "      <td>41.888594</td>\n",
              "    </tr>\n",
              "    <tr>\n",
              "      <th>2</th>\n",
              "      <td>53</td>\n",
              "      <td>Perry County, Alabama(6,10)</td>\n",
              "      <td>1105</td>\n",
              "      <td>83.1</td>\n",
              "      <td>62.5</td>\n",
              "      <td>108.8</td>\n",
              "      <td>11</td>\n",
              "      <td>stable</td>\n",
              "      <td>-5</td>\n",
              "      <td>-20.5</td>\n",
              "      <td>13.6</td>\n",
              "      <td>1105</td>\n",
              "      <td>39.805057</td>\n",
              "      <td>38.986625</td>\n",
              "      <td>39.022229</td>\n",
              "    </tr>\n",
              "    <tr>\n",
              "      <th>3</th>\n",
              "      <td>54</td>\n",
              "      <td>Pickens County, Alabama(6,10)</td>\n",
              "      <td>1107</td>\n",
              "      <td>65.6</td>\n",
              "      <td>52.8</td>\n",
              "      <td>81</td>\n",
              "      <td>18</td>\n",
              "      <td>stable</td>\n",
              "      <td>-13.2</td>\n",
              "      <td>-26.2</td>\n",
              "      <td>2</td>\n",
              "      <td>1107</td>\n",
              "      <td>39.979953</td>\n",
              "      <td>39.173487</td>\n",
              "      <td>39.137133</td>\n",
              "    </tr>\n",
              "    <tr>\n",
              "      <th>4</th>\n",
              "      <td>55</td>\n",
              "      <td>Pike County, Alabama(6,10)</td>\n",
              "      <td>1109</td>\n",
              "      <td>61.8</td>\n",
              "      <td>50.5</td>\n",
              "      <td>74.9</td>\n",
              "      <td>22</td>\n",
              "      <td>stable</td>\n",
              "      <td>-11.9</td>\n",
              "      <td>-35.2</td>\n",
              "      <td>19.8</td>\n",
              "      <td>1109</td>\n",
              "      <td>40.690546</td>\n",
              "      <td>39.856677</td>\n",
              "      <td>39.866958</td>\n",
              "    </tr>\n",
              "  </tbody>\n",
              "</table>\n",
              "</div>\n",
              "      <button class=\"colab-df-convert\" onclick=\"convertToInteractive('df-e79c8532-7526-4ca8-838d-da5274417ef3')\"\n",
              "              title=\"Convert this dataframe to an interactive table.\"\n",
              "              style=\"display:none;\">\n",
              "        \n",
              "  <svg xmlns=\"http://www.w3.org/2000/svg\" height=\"24px\"viewBox=\"0 0 24 24\"\n",
              "       width=\"24px\">\n",
              "    <path d=\"M0 0h24v24H0V0z\" fill=\"none\"/>\n",
              "    <path d=\"M18.56 5.44l.94 2.06.94-2.06 2.06-.94-2.06-.94-.94-2.06-.94 2.06-2.06.94zm-11 1L8.5 8.5l.94-2.06 2.06-.94-2.06-.94L8.5 2.5l-.94 2.06-2.06.94zm10 10l.94 2.06.94-2.06 2.06-.94-2.06-.94-.94-2.06-.94 2.06-2.06.94z\"/><path d=\"M17.41 7.96l-1.37-1.37c-.4-.4-.92-.59-1.43-.59-.52 0-1.04.2-1.43.59L10.3 9.45l-7.72 7.72c-.78.78-.78 2.05 0 2.83L4 21.41c.39.39.9.59 1.41.59.51 0 1.02-.2 1.41-.59l7.78-7.78 2.81-2.81c.8-.78.8-2.07 0-2.86zM5.41 20L4 18.59l7.72-7.72 1.47 1.35L5.41 20z\"/>\n",
              "  </svg>\n",
              "      </button>\n",
              "      \n",
              "  <style>\n",
              "    .colab-df-container {\n",
              "      display:flex;\n",
              "      flex-wrap:wrap;\n",
              "      gap: 12px;\n",
              "    }\n",
              "\n",
              "    .colab-df-convert {\n",
              "      background-color: #E8F0FE;\n",
              "      border: none;\n",
              "      border-radius: 50%;\n",
              "      cursor: pointer;\n",
              "      display: none;\n",
              "      fill: #1967D2;\n",
              "      height: 32px;\n",
              "      padding: 0 0 0 0;\n",
              "      width: 32px;\n",
              "    }\n",
              "\n",
              "    .colab-df-convert:hover {\n",
              "      background-color: #E2EBFA;\n",
              "      box-shadow: 0px 1px 2px rgba(60, 64, 67, 0.3), 0px 1px 3px 1px rgba(60, 64, 67, 0.15);\n",
              "      fill: #174EA6;\n",
              "    }\n",
              "\n",
              "    [theme=dark] .colab-df-convert {\n",
              "      background-color: #3B4455;\n",
              "      fill: #D2E3FC;\n",
              "    }\n",
              "\n",
              "    [theme=dark] .colab-df-convert:hover {\n",
              "      background-color: #434B5C;\n",
              "      box-shadow: 0px 1px 3px 1px rgba(0, 0, 0, 0.15);\n",
              "      filter: drop-shadow(0px 1px 2px rgba(0, 0, 0, 0.3));\n",
              "      fill: #FFFFFF;\n",
              "    }\n",
              "  </style>\n",
              "\n",
              "      <script>\n",
              "        const buttonEl =\n",
              "          document.querySelector('#df-e79c8532-7526-4ca8-838d-da5274417ef3 button.colab-df-convert');\n",
              "        buttonEl.style.display =\n",
              "          google.colab.kernel.accessAllowed ? 'block' : 'none';\n",
              "\n",
              "        async function convertToInteractive(key) {\n",
              "          const element = document.querySelector('#df-e79c8532-7526-4ca8-838d-da5274417ef3');\n",
              "          const dataTable =\n",
              "            await google.colab.kernel.invokeFunction('convertToInteractive',\n",
              "                                                     [key], {});\n",
              "          if (!dataTable) return;\n",
              "\n",
              "          const docLinkHtml = 'Like what you see? Visit the ' +\n",
              "            '<a target=\"_blank\" href=https://colab.research.google.com/notebooks/data_table.ipynb>data table notebook</a>'\n",
              "            + ' to learn more about interactive tables.';\n",
              "          element.innerHTML = '';\n",
              "          dataTable['output_type'] = 'display_data';\n",
              "          await google.colab.output.renderOutput(dataTable, element);\n",
              "          const docLink = document.createElement('div');\n",
              "          docLink.innerHTML = docLinkHtml;\n",
              "          element.appendChild(docLink);\n",
              "        }\n",
              "      </script>\n",
              "    </div>\n",
              "  </div>\n",
              "  "
            ]
          },
          "metadata": {},
          "execution_count": 29
        }
      ]
    },
    {
      "cell_type": "code",
      "source": [
        "len(df)"
      ],
      "metadata": {
        "colab": {
          "base_uri": "https://localhost:8080/"
        },
        "id": "j4o6f98CETr7",
        "outputId": "415a6ba3-fe14-4566-efc0-9675d5642d96"
      },
      "execution_count": 30,
      "outputs": [
        {
          "output_type": "execute_result",
          "data": {
            "text/plain": [
              "1234"
            ]
          },
          "metadata": {},
          "execution_count": 30
        }
      ]
    },
    {
      "cell_type": "markdown",
      "source": [
        "# New Section"
      ],
      "metadata": {
        "id": "y4cPFWcPNpgj"
      }
    }
  ]
}